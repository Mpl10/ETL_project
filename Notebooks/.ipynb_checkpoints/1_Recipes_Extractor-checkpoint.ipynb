{
 "cells": [
  {
   "cell_type": "markdown",
   "id": "626af8ba",
   "metadata": {},
   "source": [
    "# Índice\n",
    "\n",
    "**Extractor de URLs**\n",
    "\n",
    "**Extractor de contenido**\n",
    "\n",
    "**Creación de ficheros .csv**"
   ]
  },
  {
   "cell_type": "markdown",
   "id": "e66a5044",
   "metadata": {},
   "source": [
    "## Extractor de URLs"
   ]
  },
  {
   "cell_type": "markdown",
   "id": "f51774af",
   "metadata": {},
   "source": [
    "El fichero 1_Recipes_Extractor es el extractor de Información procedente de la web  www.food.com, de la que se origina el dataset inicial seleccionado (recipes.csv) de Kaggle (https://www.kaggle.com/datasets/irkaal/foodcom-recipes-and-reviews?select=recipes.csv)."
   ]
  },
  {
   "cell_type": "markdown",
   "id": "f7420b9f",
   "metadata": {},
   "source": [
    "Para llevar a cabo esta extracción se ha generado un listado de URLs de una muestra de las recetas del fichero recipes.csv (en el que se encuentra el campo 'RecipeId' que nos permite construir la Url de cada una de las recetas), ordenado según reseñas y valoraciones. Basado en estas URL y empleando BeautifulSoup se ha generado el fichero 1_INGREDIENTS_DATA.csv que, junto con el fichero 1_RECIPES_DATA.csv (nuestra muestra de recetas del fichero inicial de Kaggle), alimentarán dos de las tablas principales del análisis."
   ]
  },
  {
   "cell_type": "code",
   "execution_count": 1,
   "id": "072d06b8",
   "metadata": {},
   "outputs": [],
   "source": [
    "import pandas as pd\n",
    "import numpy as np\n",
    "import random\n",
    "import string\n",
    "import requests\n",
    "from tqdm import tqdm\n",
    "from time import sleep\n",
    "from selenium import webdriver\n",
    "from bs4 import BeautifulSoup\n",
    "from webdriver_manager.chrome import ChromeDriverManager\n",
    "from selenium.webdriver.common.keys import Keys\n",
    "from selenium.webdriver.chrome.options import Options\n",
    "\n",
    "import warnings\n",
    "warnings.filterwarnings('ignore')"
   ]
  },
  {
   "cell_type": "code",
   "execution_count": 4,
   "id": "22f8a71f",
   "metadata": {},
   "outputs": [],
   "source": [
    "df_inicial=pd.read_csv(\"../Data/1_Initial_data/recipes.csv\")\n",
    "df_resumen =df_inicial.sort_values(by=['ReviewCount','AggregatedRating'], ascending=False).head(200)"
   ]
  },
  {
   "cell_type": "code",
   "execution_count": 5,
   "id": "b537b4ef",
   "metadata": {},
   "outputs": [],
   "source": [
    "lista_ids= list(df_resumen[\"RecipeId\"])\n",
    "lista_urls_inicial=[]\n",
    "\n",
    "for id_receta in lista_ids:\n",
    "    lista_urls_inicial.append(f\"https://www.food.com/recipe/-{id_receta}\")"
   ]
  },
  {
   "cell_type": "code",
   "execution_count": 6,
   "id": "2cf53607",
   "metadata": {},
   "outputs": [
    {
     "name": "stderr",
     "output_type": "stream",
     "text": [
      "100%|████████████████████████████████████████████████████████████████████████████████| 200/200 [37:00<00:00, 11.10s/it]\n"
     ]
    }
   ],
   "source": [
    "driver = webdriver.Chrome(ChromeDriverManager().install())\n",
    "lista_url = []\n",
    "\n",
    "for url in tqdm(lista_urls_inicial):\n",
    "    driver.get(url)\n",
    "    driver.implicitly_wait(30)\n",
    "    sleep(10)\n",
    "    lista_url.append((driver.current_url)+(\"?units=metric&scale=4\"))"
   ]
  },
  {
   "cell_type": "markdown",
   "id": "c06b74af",
   "metadata": {},
   "source": [
    "## Extractor de contenido"
   ]
  },
  {
   "cell_type": "markdown",
   "id": "75bfaaad",
   "metadata": {},
   "source": [
    "En base a la lista de Url generada en el punto anterior vamos a extraer en el siguiente código la información complementaria al dataset inicial para cada una de las recetas. El procedimiento tarda en torno a 25 minutos por norma general."
   ]
  },
  {
   "cell_type": "code",
   "execution_count": 9,
   "id": "38613618",
   "metadata": {},
   "outputs": [
    {
     "name": "stderr",
     "output_type": "stream",
     "text": [
      "100%|████████████████████████████████████████████████████████████████████████████████| 200/200 [25:37<00:00,  7.69s/it]\n"
     ]
    }
   ],
   "source": [
    "sopa_info=[]\n",
    "\n",
    "for url in tqdm(lista_url):\n",
    "    sopa_info.append(requests.get(url))\n",
    "    sleep(7)"
   ]
  },
  {
   "cell_type": "code",
   "execution_count": 10,
   "id": "84cf3fae",
   "metadata": {},
   "outputs": [
    {
     "name": "stderr",
     "output_type": "stream",
     "text": [
      "100%|████████████████████████████████████████████████████████████████████████████████| 200/200 [00:16<00:00, 12.20it/s]\n"
     ]
    }
   ],
   "source": [
    "sopa_info_raw=[]\n",
    "\n",
    "for sopa in tqdm(sopa_info):\n",
    "    sopa_info_raw.append(BeautifulSoup(sopa.content, 'html.parser'))"
   ]
  },
  {
   "cell_type": "markdown",
   "id": "c7956f1e",
   "metadata": {},
   "source": [
    "## Creación de ficheros .csv"
   ]
  },
  {
   "cell_type": "markdown",
   "id": "87ffbc7d",
   "metadata": {},
   "source": [
    "El objetivo de esta extracción es obtener la información relativa a las siguientes columnas:"
   ]
  },
  {
   "cell_type": "markdown",
   "id": "b73d973b",
   "metadata": {},
   "source": [
    "1. `RecipeIngredientQuantities`: en el csv de Kaggle la información relativa a las cantidades viene en una unidad de medida que no es adecuada para el objetivo de análisis de este estudio, por lo que necesitaremos descargarla nuevamente para tener las cantidades traducidas al sistema métrico. Reemplazada por columna `cantidades`.   "
   ]
  },
  {
   "cell_type": "markdown",
   "id": "392b5147",
   "metadata": {},
   "source": [
    "2. `RecipeIngredientParts`: debido a la necesidad de conversión de unidades para la columna RecipeIngredientQuantities, descargaremos también de nuevo los ingredientes. Reemplazada por columna `ingredientes`.  "
   ]
  },
  {
   "cell_type": "markdown",
   "id": "7eaf411a",
   "metadata": {},
   "source": [
    "3. `RecipeServings y RecipeYield`: para el estudio que vamos a realizar queremos un número estándar de raciones, por lo que fijaremos un mismo número de servings para todas las cantidades y en lugar de RecipeYield crearemos una columna ligeramente diferente, en la que se especifica si la cantidad contenida en la nueva columna RecipeServings se refiere a raciones o unidades. Reemplazada por columnas `raciones y etiqueta_raciones`."
   ]
  },
  {
   "cell_type": "markdown",
   "id": "ed99b436",
   "metadata": {},
   "source": [
    "4. `RecipeId`: esta columna del csv original se utilizará como punto de partida para generar el listado de url del que nos serviremos para obtener toda la información nombrada en los puntos anteriores. Finalmente de la información de las url obtendremos de nuevo el RecipeId, que actuará como vínculo entre la nueva tabla de ingredientes y el set de datos original. Columna extra generada: `url`."
   ]
  },
  {
   "cell_type": "markdown",
   "id": "00e8e84d",
   "metadata": {},
   "source": [
    "5. `RecipeInstructions`: La extracción de esta columna se hará en un csv aparte de los puntos anteriores puesto que, a diferencia del resto, esta alimentará al csv inicial. La columna que contiene las instrucciones en el set de datos de Kaggle contiene errores, por lo que dada su importancia la extraeremos y la anexionaremos al mismo. Columna reemplazo generada: `intrucciones`."
   ]
  },
  {
   "cell_type": "markdown",
   "id": "866ddb17",
   "metadata": {},
   "source": [
    "Las columnas a extraer del punto 1 al 4 conformarán la tabla de INGREDIENTES, mientras que el punto 5 se anexionará a la tabla RECETAS."
   ]
  },
  {
   "cell_type": "markdown",
   "id": "46d9bdad",
   "metadata": {},
   "source": [
    "### Tabla ingredientes"
   ]
  },
  {
   "cell_type": "code",
   "execution_count": 13,
   "id": "7ed45227",
   "metadata": {},
   "outputs": [
    {
     "name": "stderr",
     "output_type": "stream",
     "text": [
      "100%|████████████████████████████████████████████████████████████████████████████████| 200/200 [00:03<00:00, 59.59it/s]\n"
     ]
    }
   ],
   "source": [
    "diccionario_recetas_ini = {\"url\":[],\n",
    "                       \"cantidades\":[],\n",
    "                       \"ingredientes\": [],\n",
    "                       \"raciones\": [],\n",
    "                       \"etiqueta_raciones\": []\n",
    "                      }\n",
    "\n",
    "for receta in tqdm(sopa_info_raw):\n",
    "    diccionario_recetas_ini[\"url\"].append(receta.find_all(\"a\", {\"class\": \"action button button--growing svelte-1apyilh\"}))\n",
    "    diccionario_recetas_ini[\"cantidades\"].append(receta.find_all(\"span\", {\"class\": \"ingredient-quantity svelte-1apyilh\"}))\n",
    "    diccionario_recetas_ini[\"ingredientes\"].append(receta.find_all(\"span\", {\"class\": \"ingredient-text svelte-1apyilh\"}))\n",
    "    diccionario_recetas_ini[\"raciones\"].append((receta.find_all(\"span\", {\"class\": \"value svelte-1o10zxc\"}))[0].getText())\n",
    "    diccionario_recetas_ini[\"etiqueta_raciones\"].append((receta.find_all(\"dt\", {\"class\": \"facts__label svelte-1apyilh\"}))[2].getText())\n",
    "    \n"
   ]
  },
  {
   "cell_type": "code",
   "execution_count": 14,
   "id": "0fcd4ef9",
   "metadata": {},
   "outputs": [],
   "source": [
    "recetas_ini= pd.DataFrame(diccionario_recetas_ini)"
   ]
  },
  {
   "cell_type": "code",
   "execution_count": 15,
   "id": "cc33cb7d",
   "metadata": {},
   "outputs": [
    {
     "name": "stderr",
     "output_type": "stream",
     "text": [
      "100%|██████████████████████████████████████████████████████████████████████████████| 200/200 [00:00<00:00, 3516.66it/s]\n"
     ]
    }
   ],
   "source": [
    "diccionario_recetas_def = {\"url\":[],\n",
    "                       \"cantidades\":[],\n",
    "                       \"ingredientes\": [],\n",
    "                       \"raciones\": [],\n",
    "                       \"etiqueta_raciones\": []\n",
    "                      }\n",
    "for i in tqdm(range(0,(len(recetas_ini)))):  \n",
    "    for registro in zip(recetas_ini[\"cantidades\"][i],recetas_ini[\"ingredientes\"][i]):\n",
    "        \n",
    "        diccionario_recetas_def[\"url\"].append(recetas_ini[\"url\"][i])\n",
    "        diccionario_recetas_def[\"cantidades\"].append(registro[0].getText())\n",
    "        diccionario_recetas_def[\"ingredientes\"].append(registro[1].getText())\n",
    "        diccionario_recetas_def[\"raciones\"].append(recetas_ini[\"raciones\"][i])\n",
    "        diccionario_recetas_def[\"etiqueta_raciones\"].append(recetas_ini[\"etiqueta_raciones\"][i])"
   ]
  },
  {
   "cell_type": "code",
   "execution_count": 16,
   "id": "435e89c3",
   "metadata": {},
   "outputs": [],
   "source": [
    "recetas_definitivo= pd.DataFrame(diccionario_recetas_def)"
   ]
  },
  {
   "cell_type": "code",
   "execution_count": 18,
   "id": "46b2dcf3",
   "metadata": {},
   "outputs": [],
   "source": [
    "recetas_definitivo.to_csv('../Data/2_Extracted_data/1_INGREDIENTS_DATA.csv', header=True, index=False)\n",
    "df_resumen.to_csv('../Data/2_Extracted_data/2_RECIPES_DATA.csv', header=True, index=False)"
   ]
  },
  {
   "cell_type": "markdown",
   "id": "554341cd",
   "metadata": {},
   "source": [
    "### Tabla recetas"
   ]
  },
  {
   "cell_type": "code",
   "execution_count": 35,
   "id": "d2c6e8f5",
   "metadata": {},
   "outputs": [
    {
     "name": "stderr",
     "output_type": "stream",
     "text": [
      "100%|███████████████████████████████████████████████████████████████████████████████| 200/200 [00:01<00:00, 124.52it/s]\n"
     ]
    }
   ],
   "source": [
    "diccionario_instrucciones = {\"url\":[],\n",
    "                             \"intrucciones\":[],\n",
    "                              }\n",
    "\n",
    "for receta in tqdm(sopa_info_raw):\n",
    "    diccionario_instrucciones[\"url\"].append(receta.find_all(\"a\", {\"class\": \"action button button--growing svelte-1apyilh\"}))\n",
    "    diccionario_instrucciones[\"intrucciones\"].append(receta.find_all(\"li\", {\"class\": \"direction svelte-1apyilh\"}))\n",
    "        "
   ]
  },
  {
   "cell_type": "code",
   "execution_count": 36,
   "id": "946be6a7",
   "metadata": {},
   "outputs": [],
   "source": [
    "instrucciones_ini= pd.DataFrame(diccionario_instrucciones)"
   ]
  },
  {
   "cell_type": "code",
   "execution_count": 64,
   "id": "2c85e21c",
   "metadata": {},
   "outputs": [
    {
     "name": "stderr",
     "output_type": "stream",
     "text": [
      "100%|█████████████████████████████████████████████████████████████████████████████| 200/200 [00:00<00:00, 13357.23it/s]\n"
     ]
    }
   ],
   "source": [
    "diccionario_instrucciones_def = {\"url\":[],\n",
    "                       \"intrucciones\":[]\n",
    "                                  }\n",
    "\n",
    "for i in tqdm(range(0,(len(instrucciones_ini)))):  \n",
    "    for registro in instrucciones_ini[\"intrucciones\"][i]:\n",
    "        \n",
    "        diccionario_instrucciones_def[\"url\"].append(instrucciones_ini[\"url\"][i])\n",
    "        diccionario_instrucciones_def[\"intrucciones\"].append(registro.getText())\n",
    "        #diccionario_recetas_def[\"intrucciones\"].append(registro[0].getText())"
   ]
  },
  {
   "cell_type": "code",
   "execution_count": 65,
   "id": "1e8d37e1",
   "metadata": {},
   "outputs": [],
   "source": [
    "instrucciones_def= pd.DataFrame(diccionario_instrucciones_def)"
   ]
  },
  {
   "cell_type": "code",
   "execution_count": 69,
   "id": "2be2d2d4",
   "metadata": {},
   "outputs": [],
   "source": [
    "instrucciones_def.to_csv('../Data/2_Extracted_data/4_INSTRUCTIONS_DATA.csv', header=True, index=False)"
   ]
  }
 ],
 "metadata": {
  "kernelspec": {
   "display_name": "Python 3 (ipykernel)",
   "language": "python",
   "name": "python3"
  },
  "language_info": {
   "codemirror_mode": {
    "name": "ipython",
    "version": 3
   },
   "file_extension": ".py",
   "mimetype": "text/x-python",
   "name": "python",
   "nbconvert_exporter": "python",
   "pygments_lexer": "ipython3",
   "version": "3.9.12"
  }
 },
 "nbformat": 4,
 "nbformat_minor": 5
}
