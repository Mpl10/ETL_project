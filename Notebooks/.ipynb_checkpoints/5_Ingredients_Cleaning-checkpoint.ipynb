{
 "cells": [
  {
   "cell_type": "markdown",
   "id": "7dee95cb",
   "metadata": {},
   "source": [
    "# Índice\n",
    "\n",
    "**Limpieza inicial dataframe**  \n",
    "\n",
    "**Limpieza de columnas**\n",
    "\n",
    "**Creación de fichero .csv**"
   ]
  },
  {
   "cell_type": "code",
   "execution_count": 47,
   "id": "e675688f",
   "metadata": {},
   "outputs": [
    {
     "name": "stdout",
     "output_type": "stream",
     "text": [
      "Requirement already satisfied: deep_translator in c:\\users\\foz\\anaconda3\\lib\\site-packages (1.9.2)Note: you may need to restart the kernel to use updated packages.\n",
      "\n",
      "Requirement already satisfied: beautifulsoup4<5.0.0,>=4.9.1 in c:\\users\\foz\\anaconda3\\lib\\site-packages (from deep_translator) (4.11.1)\n",
      "Requirement already satisfied: requests<3.0.0,>=2.23.0 in c:\\users\\foz\\anaconda3\\lib\\site-packages (from deep_translator) (2.28.1)\n",
      "Requirement already satisfied: soupsieve>1.2 in c:\\users\\foz\\anaconda3\\lib\\site-packages (from beautifulsoup4<5.0.0,>=4.9.1->deep_translator) (2.3.1)\n",
      "Requirement already satisfied: idna<4,>=2.5 in c:\\users\\foz\\anaconda3\\lib\\site-packages (from requests<3.0.0,>=2.23.0->deep_translator) (2.10)\n",
      "Requirement already satisfied: urllib3<1.27,>=1.21.1 in c:\\users\\foz\\anaconda3\\lib\\site-packages (from requests<3.0.0,>=2.23.0->deep_translator) (1.26.9)\n",
      "Requirement already satisfied: charset-normalizer<3,>=2 in c:\\users\\foz\\anaconda3\\lib\\site-packages (from requests<3.0.0,>=2.23.0->deep_translator) (2.0.4)\n",
      "Requirement already satisfied: certifi>=2017.4.17 in c:\\users\\foz\\anaconda3\\lib\\site-packages (from requests<3.0.0,>=2.23.0->deep_translator) (2021.10.8)\n"
     ]
    }
   ],
   "source": [
    "pip install deep_translator"
   ]
  },
  {
   "cell_type": "code",
   "execution_count": 48,
   "id": "05ba1f88",
   "metadata": {},
   "outputs": [],
   "source": [
    "import pandas as pd\n",
    "import numpy as np\n",
    "import re\n",
    "import string\n",
    "import random\n",
    "from random import randint\n",
    "from tqdm import tqdm\n",
    "import matplotlib.pyplot as plt\n",
    "from deep_translator import GoogleTranslator\n",
    "from fuzzywuzzy import process, fuzz"
   ]
  },
  {
   "cell_type": "code",
   "execution_count": 49,
   "id": "761bbd68",
   "metadata": {},
   "outputs": [],
   "source": [
    "import sys \n",
    "sys.path.append(\"../SRC\")\n",
    "import support as sp "
   ]
  },
  {
   "cell_type": "code",
   "execution_count": 50,
   "id": "84b676c2",
   "metadata": {},
   "outputs": [],
   "source": [
    "df=pd.read_csv(\"../Data/2_Extracted_data/1_INGREDIENTS_DATA.csv\")\n",
    "pd.options.display.max_columns = None"
   ]
  },
  {
   "cell_type": "markdown",
   "id": "493d2828",
   "metadata": {},
   "source": [
    "## Limpieza inicial dataframe"
   ]
  },
  {
   "cell_type": "markdown",
   "id": "278daecc",
   "metadata": {},
   "source": [
    "**Columnas a string**"
   ]
  },
  {
   "cell_type": "code",
   "execution_count": 51,
   "id": "15cf274d",
   "metadata": {},
   "outputs": [],
   "source": [
    "sp.Limpieza_columnas_general(df,\"cantidades\").series_a_string()\n",
    "sp.Limpieza_columnas_general(df,\"ingredientes\").series_a_string()\n",
    "sp.Limpieza_columnas_general(df,\"raciones\").series_a_string()\n",
    "sp.Limpieza_columnas_general(df,\"etiqueta_raciones\").series_a_string()"
   ]
  },
  {
   "cell_type": "markdown",
   "id": "88ccf380",
   "metadata": {},
   "source": [
    "## Limpieza de columnas"
   ]
  },
  {
   "cell_type": "markdown",
   "id": "cef95488",
   "metadata": {},
   "source": [
    "**Columna url**"
   ]
  },
  {
   "cell_type": "markdown",
   "id": "5484d784",
   "metadata": {},
   "source": [
    "Limpieza de la columna url para obtener RecipeId, que es el vínculo con los datos de recetas."
   ]
  },
  {
   "cell_type": "code",
   "execution_count": 52,
   "id": "7aaae8c4",
   "metadata": {},
   "outputs": [],
   "source": [
    "sp.Limpieza_columnas_general(df,\"url\").busqueda_patrones_regex(\"RecipeId\",\"\\-\\d{4,20}\")\n",
    "df[\"RecipeId\"] = df[\"RecipeId\"].explode()\n",
    "sp.Limpieza_columnas_general(df,\"RecipeId\").reemplazo_string(\"-\",'')\n",
    "sp.Limpieza_columnas_general(df,\"url\").borrado_columna()"
   ]
  },
  {
   "cell_type": "markdown",
   "id": "9ccd43e3",
   "metadata": {},
   "source": [
    "**Columna etiqueta_raciones**"
   ]
  },
  {
   "cell_type": "code",
   "execution_count": 53,
   "id": "5cecf437",
   "metadata": {},
   "outputs": [],
   "source": [
    "sp.Limpieza_columnas_general(df,\"etiqueta_raciones\").reemplazo_string(\":\",'')"
   ]
  },
  {
   "cell_type": "code",
   "execution_count": 54,
   "id": "6f4f3de2",
   "metadata": {},
   "outputs": [],
   "source": [
    "sp.Limpieza_columnas_general(df,\"etiqueta_raciones\").reemplazo_string(\"Serves\",'Raciones')\n",
    "sp.Limpieza_columnas_general(df,\"etiqueta_raciones\").reemplazo_string(\"Yields\",'Unidades')"
   ]
  },
  {
   "cell_type": "markdown",
   "id": "09789f64",
   "metadata": {},
   "source": [
    "**Columna ingredientes**"
   ]
  },
  {
   "cell_type": "code",
   "execution_count": 55,
   "id": "240836fe",
   "metadata": {},
   "outputs": [],
   "source": [
    "sp.Limpieza_columnas_general(df,\"ingredientes\").reemplazo_string(\"\\n\",'')\n",
    "sp.Limpieza_columnas_general(df,\"ingredientes\").reemplazo_string(\"\\u200b\\u200ben\",'')"
   ]
  },
  {
   "cell_type": "code",
   "execution_count": 56,
   "id": "0743a20a",
   "metadata": {},
   "outputs": [],
   "source": [
    "sp.Limpieza_dataframe_general(df).limpieza_espacios_columnas_str()"
   ]
  },
  {
   "cell_type": "code",
   "execution_count": 57,
   "id": "c11fb269",
   "metadata": {},
   "outputs": [],
   "source": [
    "patron1= \"^g\"\n",
    "patron2= \"^ml\"\n",
    "patron3= \"^\\d+\\.+\\d+\\s+[a-z]+\"\n",
    "\n",
    "df[\"medida\"]= df[\"ingredientes\"].apply(lambda x: re.findall(patron1, x) or \n",
    "                                                 re.findall(patron2, x) or\n",
    "                                                 re.findall(patron3, x))"
   ]
  },
  {
   "cell_type": "code",
   "execution_count": 58,
   "id": "a910d1ce",
   "metadata": {},
   "outputs": [],
   "source": [
    "df[\"medida\"] = df[\"medida\"].explode()"
   ]
  },
  {
   "cell_type": "code",
   "execution_count": 59,
   "id": "f97e1890",
   "metadata": {},
   "outputs": [],
   "source": [
    "sp.Limpieza_columnas_general(df,\"medida\").reemplazo_valores_nulos(\"unidades\")"
   ]
  },
  {
   "cell_type": "code",
   "execution_count": 60,
   "id": "aa3db098",
   "metadata": {},
   "outputs": [],
   "source": [
    "df[\"medida\"] = df[\"medida\"].apply(lambda x: re.sub(\"^\\d+\\.+\\d+\\s\",'', x))"
   ]
  },
  {
   "cell_type": "code",
   "execution_count": 61,
   "id": "6212cdf8",
   "metadata": {},
   "outputs": [],
   "source": [
    "sp.Limpieza_dataframe_general(df).limpieza_espacios_columnas_str()\n"
   ]
  },
  {
   "cell_type": "markdown",
   "id": "0704248c",
   "metadata": {},
   "source": [
    "A patir de la columna ingredientes generamos el listado INGREDIENTES_ID.csv que identifica los nombres de producto que se utilizarán para cruzar con la información de los supermercados."
   ]
  },
  {
   "cell_type": "code",
   "execution_count": 62,
   "id": "8dedf14c",
   "metadata": {},
   "outputs": [],
   "source": [
    "sp.Limpieza_columnas_general(df,\"ingredientes\").funcion_traduccion_en_es(\"ingredientes_trad\")"
   ]
  },
  {
   "cell_type": "code",
   "execution_count": 63,
   "id": "49bf19db",
   "metadata": {},
   "outputs": [],
   "source": [
    "sp.Limpieza_columnas_general(df,\"ingredientes\").borrado_columna()"
   ]
  },
  {
   "cell_type": "code",
   "execution_count": 64,
   "id": "87cd1832",
   "metadata": {},
   "outputs": [],
   "source": [
    "df[\"ingredientes\"] = df[\"ingredientes_trad\"]"
   ]
  },
  {
   "cell_type": "code",
   "execution_count": 65,
   "id": "7c003c86",
   "metadata": {},
   "outputs": [],
   "source": [
    "df_ingredientes=pd.read_csv(\"../Data/0_Others_data/2_INGREDIENTES_ID.csv\", encoding='latin-1')"
   ]
  },
  {
   "cell_type": "code",
   "execution_count": 66,
   "id": "79925322",
   "metadata": {},
   "outputs": [],
   "source": [
    "df = pd.merge(left=df, right=df_ingredientes, how='left',\n",
    "                        left_on='ingredientes', right_on='ingredientes')"
   ]
  },
  {
   "cell_type": "code",
   "execution_count": 77,
   "id": "087e17a1",
   "metadata": {},
   "outputs": [],
   "source": [
    "sp.Limpieza_columnas_general(df,\"ingredientes_trad\").borrado_columna()"
   ]
  },
  {
   "cell_type": "markdown",
   "id": "473a1594",
   "metadata": {},
   "source": [
    "**Columna cantidades**"
   ]
  },
  {
   "cell_type": "code",
   "execution_count": 67,
   "id": "d3d0bae6",
   "metadata": {},
   "outputs": [],
   "source": [
    "df=df.join(df[\"cantidades\"].str.split(\"-\", expand=True)).rename(columns={0:'cantidad_1', 1:'cantidad_2'})"
   ]
  },
  {
   "cell_type": "code",
   "execution_count": 68,
   "id": "8913f2fd",
   "metadata": {},
   "outputs": [],
   "source": [
    "sp.Limpieza_columnas_general(df,\"cantidad_1\").reemplazo_valores_nulos(\"0\")\n",
    "sp.Limpieza_columnas_general(df,\"cantidad_2\").reemplazo_valores_nulos(\"0\")"
   ]
  },
  {
   "cell_type": "code",
   "execution_count": 69,
   "id": "e8fa3afa",
   "metadata": {},
   "outputs": [],
   "source": [
    "df[\"cantidad_1\"]=df[\"cantidad_1\"].astype(\"float\")\n",
    "df[\"cantidad_2\"]=df[\"cantidad_2\"].astype(\"float\")"
   ]
  },
  {
   "cell_type": "code",
   "execution_count": 70,
   "id": "e3399366",
   "metadata": {},
   "outputs": [],
   "source": [
    "df['cantidad'] = np.where((df[\"cantidad_2\"]==0.00), df[\"cantidad_1\"], ((df[\"cantidad_1\"]+df[\"cantidad_2\"])/2))"
   ]
  },
  {
   "cell_type": "code",
   "execution_count": 71,
   "id": "52aac505",
   "metadata": {},
   "outputs": [],
   "source": [
    "sp.Limpieza_columnas_general(df,\"cantidad_1\").borrado_columna()\n",
    "sp.Limpieza_columnas_general(df,\"cantidad_2\").borrado_columna()\n",
    "sp.Limpieza_columnas_general(df,\"cantidades\").borrado_columna()"
   ]
  },
  {
   "cell_type": "code",
   "execution_count": 72,
   "id": "67d929a8",
   "metadata": {},
   "outputs": [],
   "source": [
    "df_bar = pd.DataFrame(df.groupby(['medida'])[\"id_ingrediente\"].count()).reset_index()\n",
    "df_bar = df_bar.sort_values(by =[\"id_ingrediente\"], ascending=[False])"
   ]
  },
  {
   "cell_type": "code",
   "execution_count": 73,
   "id": "ab3dc77b",
   "metadata": {},
   "outputs": [
    {
     "data": {
      "text/plain": [
       "array(['g', 'ml', 'unidades'], dtype=object)"
      ]
     },
     "execution_count": 73,
     "metadata": {},
     "output_type": "execute_result"
    }
   ],
   "source": [
    "df['medida'].unique()"
   ]
  },
  {
   "cell_type": "code",
   "execution_count": 74,
   "id": "6b3ebb32",
   "metadata": {},
   "outputs": [
    {
     "data": {
      "image/png": "[encoded data removed]",
      "text/plain": [
       "<Figure size 720x504 with 1 Axes>"
      ]
     },
     "metadata": {
      "needs_background": "light"
     },
     "output_type": "display_data"
    }
   ],
   "source": [
    "ax = df_bar.plot.bar(x='medida', \n",
    "                     y='id_ingrediente', \n",
    "                     figsize=(10, 7),\n",
    "                     legend=False,\n",
    "                     rot=0)\n",
    "\n",
    "ax.set_xlabel(\"Ud. medida\", fontsize=12)\n",
    "ax.set_ylabel(\"Num. ingredientes\", fontsize=12)\n",
    "\n",
    "plt.show()"
   ]
  },
  {
   "cell_type": "markdown",
   "id": "08d469f3",
   "metadata": {},
   "source": [
    "## Creación de fichero .csv"
   ]
  },
  {
   "cell_type": "markdown",
   "id": "23acebf6",
   "metadata": {},
   "source": [
    "**Formato de columnas**"
   ]
  },
  {
   "cell_type": "code",
   "execution_count": 80,
   "id": "fed63494",
   "metadata": {},
   "outputs": [],
   "source": [
    "sp.Limpieza_columnas_general(df,\"raciones\").conversion_formato_columna(\"int\")\n",
    "sp.Limpieza_columnas_general(df,\"RecipeId\").conversion_formato_columna(\"int\")\n",
    "sp.Limpieza_columnas_general(df,\"cantidad\").conversion_formato_columna(\"float\")"
   ]
  },
  {
   "cell_type": "code",
   "execution_count": 81,
   "id": "6e9724b5",
   "metadata": {},
   "outputs": [],
   "source": [
    "sp.Limpieza_columnas_general(df,\"etiqueta_raciones\").series_a_string()\n",
    "sp.Limpieza_columnas_general(df,\"medida\").series_a_string()\n",
    "sp.Limpieza_columnas_general(df,\"ingredientes\").series_a_string()\n",
    "sp.Limpieza_columnas_general(df,\"id_ingrediente\").series_a_string()"
   ]
  },
  {
   "cell_type": "code",
   "execution_count": 84,
   "id": "08821042",
   "metadata": {},
   "outputs": [
    {
     "name": "stdout",
     "output_type": "stream",
     "text": [
      "<class 'pandas.core.frame.DataFrame'>\n",
      "Int64Index: 1899 entries, 0 to 1898\n",
      "Data columns (total 7 columns):\n",
      " #   Column             Non-Null Count  Dtype  \n",
      "---  ------             --------------  -----  \n",
      " 0   raciones           1899 non-null   int32  \n",
      " 1   etiqueta_raciones  1899 non-null   string \n",
      " 2   RecipeId           1899 non-null   int32  \n",
      " 3   medida             1899 non-null   string \n",
      " 4   ingredientes       1899 non-null   string \n",
      " 5   id_ingrediente     1898 non-null   string \n",
      " 6   cantidad           1899 non-null   float64\n",
      "dtypes: float64(1), int32(2), string(4)\n",
      "memory usage: 168.4 KB\n"
     ]
    }
   ],
   "source": [
    "df.info()"
   ]
  },
  {
   "cell_type": "markdown",
   "id": "b9408365",
   "metadata": {},
   "source": [
    "**Ficheros csv**"
   ]
  },
  {
   "cell_type": "code",
   "execution_count": 83,
   "id": "32e66a3d",
   "metadata": {},
   "outputs": [],
   "source": [
    "df.to_csv('../Data/3_Clean_data/1_INGREDIENTS_CLEAN.csv', header=True, index=False)"
   ]
  },
  {
   "cell_type": "code",
   "execution_count": 94,
   "id": "021e7100",
   "metadata": {},
   "outputs": [],
   "source": [
    "ingredientes_link= list(df_ingredientes[\"id_ingrediente\"].unique())"
   ]
  },
  {
   "cell_type": "code",
   "execution_count": 95,
   "id": "746f7f6d",
   "metadata": {},
   "outputs": [],
   "source": [
    "df_ingr= pd.DataFrame(ingredientes_link)"
   ]
  },
  {
   "cell_type": "code",
   "execution_count": 96,
   "id": "bfd64d70",
   "metadata": {},
   "outputs": [],
   "source": [
    "df_ingr.columns = ['id_ingrediente']"
   ]
  },
  {
   "cell_type": "code",
   "execution_count": 101,
   "id": "34c3a08f",
   "metadata": {},
   "outputs": [],
   "source": [
    "sp.Limpieza_columnas_general(df_ingr,\"id_ingrediente\").series_a_string()"
   ]
  },
  {
   "cell_type": "code",
   "execution_count": 102,
   "id": "e79a9534",
   "metadata": {},
   "outputs": [
    {
     "name": "stdout",
     "output_type": "stream",
     "text": [
      "<class 'pandas.core.frame.DataFrame'>\n",
      "RangeIndex: 246 entries, 0 to 245\n",
      "Data columns (total 1 columns):\n",
      " #   Column          Non-Null Count  Dtype \n",
      "---  ------          --------------  ----- \n",
      " 0   id_ingrediente  246 non-null    string\n",
      "dtypes: string(1)\n",
      "memory usage: 2.0 KB\n"
     ]
    }
   ],
   "source": [
    "df_ingr.info()"
   ]
  },
  {
   "cell_type": "code",
   "execution_count": 103,
   "id": "f21667e1",
   "metadata": {},
   "outputs": [],
   "source": [
    "df_ingr.to_csv('../Data/3_Clean_data/4_LINK_CLEAN.csv', header=True, index=False)"
   ]
  }
 ],
 "metadata": {
  "kernelspec": {
   "display_name": "Python 3 (ipykernel)",
   "language": "python",
   "name": "python3"
  },
  "language_info": {
   "codemirror_mode": {
    "name": "ipython",
    "version": 3
   },
   "file_extension": ".py",
   "mimetype": "text/x-python",
   "name": "python",
   "nbconvert_exporter": "python",
   "pygments_lexer": "ipython3",
   "version": "3.9.12"
  }
 },
 "nbformat": 4,
 "nbformat_minor": 5
}
