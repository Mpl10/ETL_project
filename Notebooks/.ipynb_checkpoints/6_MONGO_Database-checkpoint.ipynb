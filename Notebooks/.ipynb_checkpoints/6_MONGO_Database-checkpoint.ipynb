{
 "cells": [
  {
   "cell_type": "code",
   "execution_count": 4,
   "id": "cc10462b",
   "metadata": {},
   "outputs": [],
   "source": [
    "import pandas as pd\n",
    "import pymongo"
   ]
  },
  {
   "cell_type": "code",
   "execution_count": 5,
   "id": "4e62958f",
   "metadata": {},
   "outputs": [],
   "source": [
    "df_recetas=pd.read_csv(\"../Data/3_Clean_data/2_RECIPES_CLEAN.csv\")\n",
    "df_ingredientes=pd.read_csv(\"../Data/3_Clean_data/1_INGREDIENTS_CLEAN.csv\")\n",
    "df_supermercado=pd.read_csv(\"../Data/3_Clean_data/3_SUPERMARKET_CLEAN.csv\")"
   ]
  },
  {
   "cell_type": "code",
   "execution_count": 2,
   "id": "8141414c",
   "metadata": {},
   "outputs": [],
   "source": [
    "# Conect with Mongo\n",
    "\n",
    "client = pymongo.MongoClient()\n",
    "client\n",
    "\n",
    "# Check our databases\n",
    "\n",
    "client.list_database_names()\n",
    "\n",
    "# Create a new database on MongoDB\n",
    "\n",
    "\n",
    "mydb = client[\"bbdd_etl_recipes\"]\n",
    "\n",
    "# Create a brand new collection in our database\n",
    "\n",
    "collection_1 = mydb.recipes\n",
    "collection_2 = mydb.ingredients\n",
    "collection_3 = mydb.supermarket\n",
    "\n",
    "# Insert data from our dataframe\n",
    "\n",
    "collection_1.insert_many(df_recetas.to_dict(\"records\"))\n",
    "collection_2.insert_many(df_ingredientes.to_dict(\"records\"))\n",
    "collection_3.insert_many(df_supermercado.to_dict(\"records\"))\n",
    "\n",
    "# Pass the query parameter without any specification, so it will return all the elements of the database\n",
    "\n",
    "collection.find()"
   ]
  }
 ],
 "metadata": {
  "kernelspec": {
   "display_name": "Python 3 (ipykernel)",
   "language": "python",
   "name": "python3"
  },
  "language_info": {
   "codemirror_mode": {
    "name": "ipython",
    "version": 3
   },
   "file_extension": ".py",
   "mimetype": "text/x-python",
   "name": "python",
   "nbconvert_exporter": "python",
   "pygments_lexer": "ipython3",
   "version": "3.9.12"
  }
 },
 "nbformat": 4,
 "nbformat_minor": 5
}
