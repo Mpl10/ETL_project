{
 "cells": [
  {
   "cell_type": "markdown",
   "id": "5a5d0f5b",
   "metadata": {},
   "source": [
    "# Índice\n",
    "\n",
    "**Limpieza inicial dataframe**\n",
    "\n",
    "    1️⃣ Borrado de columnas\n",
    "    2️⃣ Traducción columnas de texto\n",
    "\n",
    "**Tratamiento de columnas**\n",
    "\n",
    "    1️⃣ Añadir columna de instrucciones\n",
    "    2️⃣ Manejo columnas de tiempo\n",
    "\n",
    "**Creación de fichero .csv**"
   ]
  },
  {
   "cell_type": "code",
   "execution_count": 47,
   "id": "cc6498d0",
   "metadata": {},
   "outputs": [],
   "source": [
    "import pandas as pd\n",
    "import numpy as np\n",
    "import re\n",
    "import string\n",
    "from deep_translator import GoogleTranslator"
   ]
  },
  {
   "cell_type": "code",
   "execution_count": 48,
   "id": "ff581a24",
   "metadata": {},
   "outputs": [],
   "source": [
    "import sys \n",
    "sys.path.append(\"../SRC\")\n",
    "import support as sp "
   ]
  },
  {
   "cell_type": "code",
   "execution_count": 49,
   "id": "0aa3b99d",
   "metadata": {},
   "outputs": [],
   "source": [
    "df=pd.read_csv(\"../Data/2_Extracted_data/2_RECIPES_DATA.csv\")\n",
    "df_instrucciones=pd.read_csv(\"../Data/2_Extracted_data/4_INSTRUCTIONS_DATA.csv\")\n",
    "pd.options.display.max_columns = None"
   ]
  },
  {
   "cell_type": "markdown",
   "id": "eb529dab",
   "metadata": {},
   "source": [
    "## Limpieza inicial dataframe"
   ]
  },
  {
   "cell_type": "markdown",
   "id": "d20d8d1c",
   "metadata": {},
   "source": [
    "**1. Borrado de columnas**"
   ]
  },
  {
   "cell_type": "code",
   "execution_count": 50,
   "id": "64fd395f",
   "metadata": {},
   "outputs": [],
   "source": [
    "sp.Limpieza_columnas_general(df,\"AuthorId\").borrado_columna()\n",
    "sp.Limpieza_columnas_general(df,\"AuthorName\").borrado_columna()\n",
    "sp.Limpieza_columnas_general(df,\"CookTime\").borrado_columna()\n",
    "sp.Limpieza_columnas_general(df,\"DatePublished\").borrado_columna()\n",
    "sp.Limpieza_columnas_general(df,\"Images\").borrado_columna()\n",
    "sp.Limpieza_columnas_general(df,\"Keywords\").borrado_columna()\n",
    "sp.Limpieza_columnas_general(df,\"RecipeIngredientQuantities\").borrado_columna()\n",
    "sp.Limpieza_columnas_general(df,\"RecipeIngredientParts\").borrado_columna()\n",
    "sp.Limpieza_columnas_general(df,\"RecipeServings\").borrado_columna()\n",
    "sp.Limpieza_columnas_general(df,\"RecipeYield\").borrado_columna()\n",
    "sp.Limpieza_columnas_general(df,\"Description\").borrado_columna()\n",
    "sp.Limpieza_columnas_general(df,\"RecipeInstructions\").borrado_columna()"
   ]
  },
  {
   "cell_type": "markdown",
   "id": "4d2d3dd6",
   "metadata": {},
   "source": [
    "**2. Traducción columnas de texto**"
   ]
  },
  {
   "cell_type": "code",
   "execution_count": 51,
   "id": "c60f09df",
   "metadata": {},
   "outputs": [],
   "source": [
    "sp.Limpieza_columnas_general(df,\"RecipeCategory\").series_a_string()\n",
    "sp.Limpieza_columnas_general(df,\"Name\").series_a_string()"
   ]
  },
  {
   "cell_type": "code",
   "execution_count": 52,
   "id": "a29b72c3",
   "metadata": {},
   "outputs": [],
   "source": [
    "sp.Limpieza_columnas_general(df,\"RecipeCategory\").funcion_traduccion_en_es(\"Categoria_receta\")\n",
    "sp.Limpieza_columnas_general(df,\"Name\").funcion_traduccion_en_es(\"Nombre\")"
   ]
  },
  {
   "cell_type": "code",
   "execution_count": 53,
   "id": "994e9f0a",
   "metadata": {},
   "outputs": [],
   "source": [
    "sp.Limpieza_columnas_general(df,\"RecipeCategory\").borrado_columna()\n",
    "sp.Limpieza_columnas_general(df,\"Name\").borrado_columna()"
   ]
  },
  {
   "cell_type": "markdown",
   "id": "6fe66b04",
   "metadata": {},
   "source": [
    "## Tratamiento de columnas"
   ]
  },
  {
   "cell_type": "markdown",
   "id": "fed60e19",
   "metadata": {},
   "source": [
    "**1. Añadir columna de instrucciones**"
   ]
  },
  {
   "cell_type": "code",
   "execution_count": 54,
   "id": "6ed6980f",
   "metadata": {},
   "outputs": [],
   "source": [
    "sp.Limpieza_columnas_general(df_instrucciones,\"url\").busqueda_patrones_regex(\"RecipeId\",\"\\-\\d{4,20}\")\n",
    "df_instrucciones[\"RecipeId\"] = df_instrucciones[\"RecipeId\"].explode()\n",
    "sp.Limpieza_columnas_general(df_instrucciones,\"RecipeId\").reemplazo_string(\"-\",'')\n",
    "sp.Limpieza_columnas_general(df_instrucciones,\"url\").borrado_columna()"
   ]
  },
  {
   "cell_type": "code",
   "execution_count": 55,
   "id": "b46648ee",
   "metadata": {},
   "outputs": [],
   "source": [
    "df_instrucciones=df_instrucciones.groupby('RecipeId')['intrucciones'].apply(list)"
   ]
  },
  {
   "cell_type": "code",
   "execution_count": 56,
   "id": "a1dcc0c8",
   "metadata": {},
   "outputs": [],
   "source": [
    "df_instrucciones = pd.DataFrame(df_instrucciones)"
   ]
  },
  {
   "cell_type": "code",
   "execution_count": 57,
   "id": "24fe41c7",
   "metadata": {},
   "outputs": [],
   "source": [
    "df_instrucciones[\"intrucciones\"] = [','.join(map(str, i)) for i in df_instrucciones[\"intrucciones\"]]"
   ]
  },
  {
   "cell_type": "code",
   "execution_count": 58,
   "id": "032586bf",
   "metadata": {},
   "outputs": [],
   "source": [
    "df_instrucciones.reset_index(drop=False, inplace=True)"
   ]
  },
  {
   "cell_type": "code",
   "execution_count": 59,
   "id": "f6b981f2",
   "metadata": {},
   "outputs": [],
   "source": [
    "df_instrucciones[\"RecipeId\"]=df_instrucciones[\"RecipeId\"].astype(\"int\")"
   ]
  },
  {
   "cell_type": "code",
   "execution_count": 60,
   "id": "6682a999",
   "metadata": {},
   "outputs": [],
   "source": [
    "df = pd.merge(left=df, right=df_instrucciones, how='left',\n",
    "                        left_on='RecipeId', right_on='RecipeId')"
   ]
  },
  {
   "cell_type": "code",
   "execution_count": 61,
   "id": "d2766554",
   "metadata": {},
   "outputs": [],
   "source": [
    "sp.Limpieza_columnas_general(df,\"intrucciones\").funcion_traduccion_en_es(\"intrucciones\")"
   ]
  },
  {
   "cell_type": "markdown",
   "id": "a692d03c",
   "metadata": {},
   "source": [
    "**4. Manejo columnas de tiempo**"
   ]
  },
  {
   "cell_type": "code",
   "execution_count": 62,
   "id": "3735a325",
   "metadata": {},
   "outputs": [],
   "source": [
    "sp.Limpieza_columnas_general(df,\"PrepTime\").reemplazo_string(\"PT\",'')\n",
    "sp.Limpieza_columnas_general(df,\"TotalTime\").reemplazo_string(\"PT\",'')"
   ]
  },
  {
   "cell_type": "markdown",
   "id": "e628558f",
   "metadata": {},
   "source": [
    "Transformación PrepTime a minutos:"
   ]
  },
  {
   "cell_type": "code",
   "execution_count": 63,
   "id": "75f150a5",
   "metadata": {},
   "outputs": [],
   "source": [
    "df=df.join(df[\"PrepTime\"].str.split(\"H\", expand=True)).rename(columns={0:'PrepTime_1', 1:'PrepTime_2'})"
   ]
  },
  {
   "cell_type": "code",
   "execution_count": 64,
   "id": "4514b79e",
   "metadata": {},
   "outputs": [],
   "source": [
    "sp.Limpieza_columnas_general(df,\"PrepTime_2\").reemplazo_valores_nulos(\"MINUTOS\")"
   ]
  },
  {
   "cell_type": "code",
   "execution_count": 65,
   "id": "76aa4c1d",
   "metadata": {},
   "outputs": [],
   "source": [
    "df[\"minutos\"] = np.where((df[\"PrepTime_2\"]==\"MINUTOS\"), df[\"PrepTime_1\"], df[\"PrepTime_2\"])\n",
    "df[\"horas\"] = np.where((df[\"PrepTime_2\"]==\"MINUTOS\"), \"0\", df[\"PrepTime_1\"])"
   ]
  },
  {
   "cell_type": "code",
   "execution_count": 66,
   "id": "d0ec7d2b",
   "metadata": {},
   "outputs": [],
   "source": [
    "df[\"minutos\"] = np.where((df[\"minutos\"]==\"\"), \"0\", df[\"minutos\"])"
   ]
  },
  {
   "cell_type": "code",
   "execution_count": 67,
   "id": "b1443d82",
   "metadata": {},
   "outputs": [],
   "source": [
    "sp.Limpieza_columnas_general(df,\"PrepTime_1\").borrado_columna()\n",
    "sp.Limpieza_columnas_general(df,\"PrepTime_2\").borrado_columna()"
   ]
  },
  {
   "cell_type": "code",
   "execution_count": 68,
   "id": "bfa670b7",
   "metadata": {},
   "outputs": [],
   "source": [
    "sp.Limpieza_columnas_general(df,\"minutos\").reemplazo_string(\"M\",'')\n",
    "sp.Limpieza_columnas_general(df,\"minutos\").reemplazo_string(\"0S\",'0')"
   ]
  },
  {
   "cell_type": "code",
   "execution_count": 69,
   "id": "b22041bc",
   "metadata": {},
   "outputs": [],
   "source": [
    "sp.Limpieza_columnas_general(df,\"minutos\").conversion_formato_columna(\"int\")\n",
    "sp.Limpieza_columnas_general(df,\"horas\").conversion_formato_columna(\"int\")"
   ]
  },
  {
   "cell_type": "code",
   "execution_count": 70,
   "id": "d2416244",
   "metadata": {},
   "outputs": [],
   "source": [
    "df[\"Prep_time\"]= df[\"minutos\"]+(df[\"horas\"]*60)"
   ]
  },
  {
   "cell_type": "code",
   "execution_count": 71,
   "id": "c9ad1320",
   "metadata": {},
   "outputs": [],
   "source": [
    "sp.Limpieza_columnas_general(df,\"minutos\").borrado_columna()\n",
    "sp.Limpieza_columnas_general(df,\"horas\").borrado_columna()\n",
    "sp.Limpieza_columnas_general(df,\"PrepTime\").borrado_columna()"
   ]
  },
  {
   "cell_type": "markdown",
   "id": "907b1179",
   "metadata": {},
   "source": [
    "Transformación TotalTime a minutos:"
   ]
  },
  {
   "cell_type": "code",
   "execution_count": 72,
   "id": "fcd5cbbf",
   "metadata": {},
   "outputs": [],
   "source": [
    "df=df.join(df[\"TotalTime\"].str.split(\"H\", expand=True)).rename(columns={0:'TotalTime_1', 1:'TotalTime_2'})"
   ]
  },
  {
   "cell_type": "code",
   "execution_count": 73,
   "id": "c0853d28",
   "metadata": {},
   "outputs": [],
   "source": [
    "sp.Limpieza_columnas_general(df,\"TotalTime_2\").reemplazo_valores_nulos(\"MINUTOS\")"
   ]
  },
  {
   "cell_type": "code",
   "execution_count": 74,
   "id": "f934a190",
   "metadata": {},
   "outputs": [],
   "source": [
    "df[\"minutos\"] = np.where((df[\"TotalTime_2\"]==\"MINUTOS\"), df[\"TotalTime_1\"], df[\"TotalTime_2\"])\n",
    "df[\"horas\"] = np.where((df[\"TotalTime_2\"]==\"MINUTOS\"), \"0\", df[\"TotalTime_1\"])"
   ]
  },
  {
   "cell_type": "code",
   "execution_count": 75,
   "id": "7de3ca7e",
   "metadata": {},
   "outputs": [],
   "source": [
    "df[\"minutos\"] = np.where((df[\"minutos\"]==\"\"), \"0\", df[\"minutos\"])"
   ]
  },
  {
   "cell_type": "code",
   "execution_count": 76,
   "id": "f089678e",
   "metadata": {},
   "outputs": [],
   "source": [
    "sp.Limpieza_columnas_general(df,\"TotalTime_1\").borrado_columna()\n",
    "sp.Limpieza_columnas_general(df,\"TotalTime_2\").borrado_columna()"
   ]
  },
  {
   "cell_type": "code",
   "execution_count": 77,
   "id": "de067673",
   "metadata": {},
   "outputs": [],
   "source": [
    "sp.Limpieza_columnas_general(df,\"minutos\").reemplazo_string(\"M\",'')"
   ]
  },
  {
   "cell_type": "code",
   "execution_count": 78,
   "id": "9ad41366",
   "metadata": {},
   "outputs": [],
   "source": [
    "sp.Limpieza_columnas_general(df,\"minutos\").conversion_formato_columna(\"int\")\n",
    "sp.Limpieza_columnas_general(df,\"horas\").conversion_formato_columna(\"int\")"
   ]
  },
  {
   "cell_type": "code",
   "execution_count": 79,
   "id": "b428a884",
   "metadata": {},
   "outputs": [],
   "source": [
    "df[\"Total_time\"]= df[\"minutos\"]+(df[\"horas\"]*60)"
   ]
  },
  {
   "cell_type": "code",
   "execution_count": 80,
   "id": "165d0c06",
   "metadata": {},
   "outputs": [],
   "source": [
    "sp.Limpieza_columnas_general(df,\"minutos\").borrado_columna()\n",
    "sp.Limpieza_columnas_general(df,\"horas\").borrado_columna()\n",
    "sp.Limpieza_columnas_general(df,\"TotalTime\").borrado_columna()"
   ]
  },
  {
   "cell_type": "markdown",
   "id": "2c3dabc9",
   "metadata": {},
   "source": [
    "## Creación de fichero .csv"
   ]
  },
  {
   "cell_type": "code",
   "execution_count": 83,
   "id": "f09ec692",
   "metadata": {},
   "outputs": [
    {
     "name": "stdout",
     "output_type": "stream",
     "text": [
      "<class 'pandas.core.frame.DataFrame'>\n",
      "Int64Index: 200 entries, 0 to 199\n",
      "Data columns (total 17 columns):\n",
      " #   Column               Non-Null Count  Dtype  \n",
      "---  ------               --------------  -----  \n",
      " 0   RecipeId             200 non-null    int64  \n",
      " 1   AggregatedRating     200 non-null    float64\n",
      " 2   ReviewCount          200 non-null    float64\n",
      " 3   Calories             200 non-null    float64\n",
      " 4   FatContent           200 non-null    float64\n",
      " 5   SaturatedFatContent  200 non-null    float64\n",
      " 6   CholesterolContent   200 non-null    float64\n",
      " 7   SodiumContent        200 non-null    float64\n",
      " 8   CarbohydrateContent  200 non-null    float64\n",
      " 9   FiberContent         200 non-null    float64\n",
      " 10  SugarContent         200 non-null    float64\n",
      " 11  ProteinContent       200 non-null    float64\n",
      " 12  Categoria_receta     200 non-null    object \n",
      " 13  Nombre               200 non-null    object \n",
      " 14  intrucciones         200 non-null    object \n",
      " 15  Prep_time            200 non-null    int32  \n",
      " 16  Total_time           200 non-null    int32  \n",
      "dtypes: float64(11), int32(2), int64(1), object(3)\n",
      "memory usage: 34.7+ KB\n"
     ]
    }
   ],
   "source": [
    "df.info()"
   ]
  },
  {
   "cell_type": "code",
   "execution_count": 82,
   "id": "c37d154c",
   "metadata": {},
   "outputs": [],
   "source": [
    "df.to_csv('../Data/3_Clean_data/2_RECIPES_CLEAN.csv', header=True, index=False)"
   ]
  }
 ],
 "metadata": {
  "kernelspec": {
   "display_name": "Python 3 (ipykernel)",
   "language": "python",
   "name": "python3"
  },
  "language_info": {
   "codemirror_mode": {
    "name": "ipython",
    "version": 3
   },
   "file_extension": ".py",
   "mimetype": "text/x-python",
   "name": "python",
   "nbconvert_exporter": "python",
   "pygments_lexer": "ipython3",
   "version": "3.9.12"
  }
 },
 "nbformat": 4,
 "nbformat_minor": 5
}
