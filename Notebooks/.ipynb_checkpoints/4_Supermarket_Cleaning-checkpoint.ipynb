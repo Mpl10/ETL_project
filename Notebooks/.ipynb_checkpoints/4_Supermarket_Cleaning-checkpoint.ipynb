{
 "cells": [
  {
   "cell_type": "markdown",
   "id": "48dcd2ec",
   "metadata": {},
   "source": [
    "# Índice\n",
    "\n",
    "**Limpieza inicial dataframe**\n",
    "\n",
    "**Tratamiento de columnas**\n",
    "\n",
    "**Creación de fichero .csv**"
   ]
  },
  {
   "cell_type": "code",
   "execution_count": 1,
   "id": "a2672087",
   "metadata": {},
   "outputs": [
    {
     "name": "stderr",
     "output_type": "stream",
     "text": [
      "C:\\Users\\FOZ\\Anaconda3\\lib\\site-packages\\fuzzywuzzy\\fuzz.py:11: UserWarning: Using slow pure-python SequenceMatcher. Install python-Levenshtein to remove this warning\n",
      "  warnings.warn('Using slow pure-python SequenceMatcher. Install python-Levenshtein to remove this warning')\n"
     ]
    }
   ],
   "source": [
    "import pandas as pd\n",
    "import numpy as np\n",
    "import re\n",
    "import datetime\n",
    "import string\n",
    "import matplotlib.pyplot as plt\n",
    "from fuzzywuzzy import process, fuzz\n",
    "import pickle"
   ]
  },
  {
   "cell_type": "code",
   "execution_count": 2,
   "id": "226a17a3",
   "metadata": {},
   "outputs": [],
   "source": [
    "import sys \n",
    "sys.path.append(\"../SRC\")\n",
    "\n",
    "import support as sp "
   ]
  },
  {
   "cell_type": "code",
   "execution_count": 3,
   "id": "93cc694b",
   "metadata": {},
   "outputs": [],
   "source": [
    "df=pd.read_csv(\"../Data/2_Extracted_data/3_CATALOGO_AHORRAMAS_DATA.csv\")\n",
    "pd.options.display.max_columns = None"
   ]
  },
  {
   "cell_type": "markdown",
   "id": "f3bb2976",
   "metadata": {},
   "source": [
    "## Limpieza inicial dataframe"
   ]
  },
  {
   "cell_type": "markdown",
   "id": "97f247e1",
   "metadata": {},
   "source": [
    "**1. Limpieza de filas nan**"
   ]
  },
  {
   "cell_type": "markdown",
   "id": "61ae2aea",
   "metadata": {},
   "source": [
    "Eliminaremos todas aquellas filas que contienen valores nulos en los campos de precio (precio_ud y precio_medida), ya que no serán útiles para el análisis."
   ]
  },
  {
   "cell_type": "code",
   "execution_count": 4,
   "id": "e614d24d",
   "metadata": {},
   "outputs": [],
   "source": [
    "sp.Limpieza_dataframe_general(df).eliminar_filas_nan_arg_columnas(['precio_ud', 'precio_medida'])"
   ]
  },
  {
   "cell_type": "code",
   "execution_count": 5,
   "id": "40919573",
   "metadata": {},
   "outputs": [],
   "source": [
    "sp.Limpieza_dataframe_general(df).resetear_indice()"
   ]
  },
  {
   "cell_type": "markdown",
   "id": "6f1ec9b3",
   "metadata": {},
   "source": [
    "**2. Columnas a string**"
   ]
  },
  {
   "cell_type": "code",
   "execution_count": 6,
   "id": "02aad365",
   "metadata": {},
   "outputs": [],
   "source": [
    "sp.Limpieza_columnas_general(df,\"producto_desc\").series_a_string()\n",
    "sp.Limpieza_columnas_general(df,\"precio_ud\").series_a_string()\n",
    "sp.Limpieza_columnas_general(df,\"precio_medida\").series_a_string()\n",
    "sp.Limpieza_columnas_general(df,\"peso_unit\").series_a_string()\n",
    "sp.Limpieza_columnas_general(df,\"descuento\").series_a_string()\n",
    "sp.Limpieza_columnas_general(df,\"precio_sin_desc\").series_a_string()\n",
    "sp.Limpieza_columnas_general(df,\"categorias\").series_a_string()"
   ]
  },
  {
   "cell_type": "code",
   "execution_count": 7,
   "id": "af432629",
   "metadata": {},
   "outputs": [
    {
     "name": "stdout",
     "output_type": "stream",
     "text": [
      "<class 'pandas.core.frame.DataFrame'>\n",
      "RangeIndex: 4359 entries, 0 to 4358\n",
      "Data columns (total 7 columns):\n",
      " #   Column           Non-Null Count  Dtype \n",
      "---  ------           --------------  ----- \n",
      " 0   producto_desc    4359 non-null   string\n",
      " 1   precio_ud        4359 non-null   string\n",
      " 2   precio_medida    4338 non-null   string\n",
      " 3   peso_unit        183 non-null    string\n",
      " 4   descuento        4338 non-null   string\n",
      " 5   precio_sin_desc  4338 non-null   string\n",
      " 6   categorias       4359 non-null   string\n",
      "dtypes: string(7)\n",
      "memory usage: 238.5 KB\n"
     ]
    }
   ],
   "source": [
    "sp.Dataframe_info(df).info_resumen()"
   ]
  },
  {
   "cell_type": "markdown",
   "id": "c343a2ec",
   "metadata": {},
   "source": [
    "**3. Manejo de valores nulos**"
   ]
  },
  {
   "cell_type": "markdown",
   "id": "41bf75a3",
   "metadata": {},
   "source": [
    "En el reemplazo de los valores nulos utilizaremos distintos criterios en función de la columna"
   ]
  },
  {
   "cell_type": "code",
   "execution_count": 8,
   "id": "6d51a4a4",
   "metadata": {},
   "outputs": [],
   "source": [
    "sp.Limpieza_columnas_general(df,\"descuento\").reemplazo_valores_nulos(\"Sin información\")\n",
    "sp.Limpieza_columnas_general(df,\"precio_medida\").reemplazo_valores_nulos(\"NULO\")\n",
    "sp.Limpieza_columnas_general(df,\"precio_sin_desc\").reemplazo_valores_nulos(\"precio unitario\")\n",
    "sp.Limpieza_columnas_general(df,\"peso_unit\").reemplazo_valores_nulos(\"0\") "
   ]
  },
  {
   "cell_type": "markdown",
   "id": "a5b299ce",
   "metadata": {},
   "source": [
    "**4. Limpieza de espacios**"
   ]
  },
  {
   "cell_type": "code",
   "execution_count": 9,
   "id": "6e1ea257",
   "metadata": {},
   "outputs": [],
   "source": [
    "sp.Limpieza_dataframe_general(df).limpieza_espacios_columnas_str()"
   ]
  },
  {
   "cell_type": "markdown",
   "id": "02257d24",
   "metadata": {},
   "source": [
    "## Tratamiento de columnas"
   ]
  },
  {
   "cell_type": "markdown",
   "id": "1e3a01bc",
   "metadata": {},
   "source": [
    "**Columna categorías**"
   ]
  },
  {
   "cell_type": "code",
   "execution_count": 10,
   "id": "6132dd3f",
   "metadata": {},
   "outputs": [],
   "source": [
    "df=df.join(df[\"categorias\"].str.split(\"\\n\\n\\n\\n\\n\", expand=True)).rename(columns={0:'categoria_1', 1:'categoria_2', 2:'categoria_3',3:'categoria_4'})"
   ]
  },
  {
   "cell_type": "code",
   "execution_count": 11,
   "id": "b67df99c",
   "metadata": {},
   "outputs": [],
   "source": [
    "sp.Limpieza_columnas_general(df,\"categorias\").borrado_columna()"
   ]
  },
  {
   "cell_type": "code",
   "execution_count": 12,
   "id": "be726fb4",
   "metadata": {},
   "outputs": [],
   "source": [
    "sp.Limpieza_columnas_general(df,\"categoria_2\").reemplazo_valores_nulos(\"No aplica\")\n",
    "sp.Limpieza_columnas_general(df,\"categoria_3\").reemplazo_valores_nulos(\"No aplica\")\n",
    "sp.Limpieza_columnas_general(df,\"categoria_4\").reemplazo_valores_nulos(\"No aplica\")"
   ]
  },
  {
   "cell_type": "code",
   "execution_count": 13,
   "id": "e63482d6",
   "metadata": {},
   "outputs": [],
   "source": [
    "sp.Limpieza_columnas_general(df,\"categoria_1\").reemplazo_string(\"\\n\",'')\n",
    "sp.Limpieza_columnas_general(df,\"categoria_2\").reemplazo_string(\"\\n\",'')\n",
    "sp.Limpieza_columnas_general(df,\"categoria_3\").reemplazo_string(\"\\n\",'')\n",
    "sp.Limpieza_columnas_general(df,\"categoria_4\").reemplazo_string(\"\\n\",'')"
   ]
  },
  {
   "cell_type": "markdown",
   "id": "827a2e06",
   "metadata": {},
   "source": [
    "**Columna precio_ud**"
   ]
  },
  {
   "cell_type": "code",
   "execution_count": 14,
   "id": "727f4345",
   "metadata": {},
   "outputs": [],
   "source": [
    "#precio total\n",
    "sp.Limpieza_columnas_general(df,\"precio_ud\").reemplazo_string(\"€\",'')\n",
    "sp.Limpieza_columnas_general(df,\"precio_ud\").reemplazo_string(\"€\",'')\n",
    "sp.Limpieza_columnas_general(df,\"precio_ud\").reemplazo_string(\"\\n\",'')\n",
    "sp.Limpieza_columnas_general(df,\"precio_ud\").reemplazo_string(\",\",'.')\n",
    "sp.Limpieza_columnas_general(df,\"precio_ud\").series_a_string()\n",
    "sp.Limpieza_dataframe_general(df).limpieza_espacios_columnas_str()"
   ]
  },
  {
   "cell_type": "markdown",
   "id": "536a3fa0",
   "metadata": {},
   "source": [
    "**Columna precio_medida**"
   ]
  },
  {
   "cell_type": "code",
   "execution_count": 15,
   "id": "876a06d9",
   "metadata": {},
   "outputs": [],
   "source": [
    "sp.Limpieza_columnas_general(df,\"precio_medida\").reemplazo_string(\"(\",'')\n",
    "sp.Limpieza_columnas_general(df,\"precio_medida\").reemplazo_string(\")\",'')\n",
    "sp.Limpieza_columnas_general(df,\"precio_medida\").reemplazo_string(\"€\",'')\n",
    "sp.Limpieza_columnas_general(df,\"precio_medida\").reemplazo_string(\"\\n\",'')"
   ]
  },
  {
   "cell_type": "code",
   "execution_count": 16,
   "id": "fa1e486a",
   "metadata": {},
   "outputs": [],
   "source": [
    "df['precio_medida'] =np.where(df['precio_medida'] == \"NULO\", df['precio_ud']+\"/PROD\", df['precio_medida'])"
   ]
  },
  {
   "cell_type": "code",
   "execution_count": 17,
   "id": "bc4756bf",
   "metadata": {},
   "outputs": [],
   "source": [
    "df=df.join(df[\"precio_medida\"].str.split(\"/\", expand=True)).rename(columns={0:'precio_por_medida', 1:'unidad_de_medida'})"
   ]
  },
  {
   "cell_type": "code",
   "execution_count": 18,
   "id": "a781b1c7",
   "metadata": {},
   "outputs": [],
   "source": [
    "sp.Limpieza_columnas_general(df,\"precio_medida\").borrado_columna()\n",
    "sp.Limpieza_columnas_general(df,\"precio_por_medida\").reemplazo_string(\",\",'.')\n",
    "sp.Limpieza_dataframe_general(df).limpieza_espacios_columnas_str()"
   ]
  },
  {
   "cell_type": "markdown",
   "id": "88d74934",
   "metadata": {},
   "source": [
    "***Análisis de valores en unidad_de_medida:***"
   ]
  },
  {
   "cell_type": "markdown",
   "id": "7f370a67",
   "metadata": {},
   "source": [
    "Para hacer las conversiones de las cantidades para que encajen con los ingredientes de las recetas necesitaremos homogeneizar los valores de la columna unidad_de_medida"
   ]
  },
  {
   "cell_type": "code",
   "execution_count": 19,
   "id": "c735991f",
   "metadata": {},
   "outputs": [],
   "source": [
    "df_bar = pd.DataFrame(df.groupby(['unidad_de_medida'])[\"producto_desc\"].count()).reset_index()\n",
    "df_bar = df_bar.sort_values(by =[\"producto_desc\"], ascending=[False])"
   ]
  },
  {
   "cell_type": "code",
   "execution_count": 20,
   "id": "07c65248",
   "metadata": {},
   "outputs": [
    {
     "data": {
      "text/plain": [
       "array(['KILO', 'LITRO', 'KG.PESO ESC', 'UNIDAD', 'DOCENA', 'PROD',\n",
       "       '100 GR.', 'Kg', '100 ML.'], dtype=object)"
      ]
     },
     "execution_count": 20,
     "metadata": {},
     "output_type": "execute_result"
    }
   ],
   "source": [
    "df['unidad_de_medida'].unique()"
   ]
  },
  {
   "cell_type": "code",
   "execution_count": 21,
   "id": "40fdfedd",
   "metadata": {},
   "outputs": [
    {
     "data": {
      "image/png": "[encoded data removed]",
      "text/plain": [
       "<Figure size 720x504 with 1 Axes>"
      ]
     },
     "metadata": {
      "needs_background": "light"
     },
     "output_type": "display_data"
    }
   ],
   "source": [
    "ax = df_bar.plot.bar(x='unidad_de_medida', \n",
    "                     y='producto_desc', \n",
    "                     figsize=(10, 7),\n",
    "                     legend=False,\n",
    "                     rot=0)\n",
    "\n",
    "ax.set_xlabel(\"Ud. medida\", fontsize=12)\n",
    "ax.set_ylabel(\"Num. productos\", fontsize=12)\n",
    "\n",
    "plt.show()"
   ]
  },
  {
   "cell_type": "markdown",
   "id": "43cb63a5",
   "metadata": {},
   "source": [
    "*Unificamos los valores:"
   ]
  },
  {
   "cell_type": "code",
   "execution_count": 22,
   "id": "ce3410dd",
   "metadata": {},
   "outputs": [],
   "source": [
    "sp.Limpieza_columnas_general(df,\"unidad_de_medida\").reemplazo_string(\"Kg\",'KILO')\n",
    "sp.Limpieza_columnas_general(df,\"unidad_de_medida\").reemplazo_string(\"KG.PESO ESC\",'KILO')\n",
    "sp.Limpieza_columnas_general(df,\"unidad_de_medida\").reemplazo_string(\"PROD\",'UNIDAD')"
   ]
  },
  {
   "cell_type": "code",
   "execution_count": 23,
   "id": "662b84f2",
   "metadata": {},
   "outputs": [],
   "source": [
    "df_bar = pd.DataFrame(df.groupby(['unidad_de_medida'])[\"producto_desc\"].count()).reset_index()\n",
    "df_bar = df_bar.sort_values(by =[\"producto_desc\"], ascending=[False])"
   ]
  },
  {
   "cell_type": "code",
   "execution_count": 24,
   "id": "d171e93c",
   "metadata": {},
   "outputs": [
    {
     "data": {
      "text/plain": [
       "array(['KILO', 'LITRO', 'UNIDAD', 'DOCENA', '100 GR.', '100 ML.'],\n",
       "      dtype=object)"
      ]
     },
     "execution_count": 24,
     "metadata": {},
     "output_type": "execute_result"
    }
   ],
   "source": [
    "df['unidad_de_medida'].unique()"
   ]
  },
  {
   "cell_type": "code",
   "execution_count": 25,
   "id": "4fa4119e",
   "metadata": {},
   "outputs": [
    {
     "data": {
      "image/png": "[encoded data removed]",
      "text/plain": [
       "<Figure size 720x504 with 1 Axes>"
      ]
     },
     "metadata": {
      "needs_background": "light"
     },
     "output_type": "display_data"
    }
   ],
   "source": [
    "ax = df_bar.plot.bar(x='unidad_de_medida', \n",
    "                     y='producto_desc', \n",
    "                     figsize=(10, 7),\n",
    "                     legend=False,\n",
    "                     #fontsize=12,\n",
    "                     rot=0)\n",
    "\n",
    "ax.set_xlabel(\"Ud. medida\", fontsize=12)\n",
    "ax.set_ylabel(\"Num. productos\", fontsize=12)\n",
    "\n",
    "plt.show()"
   ]
  },
  {
   "cell_type": "code",
   "execution_count": 26,
   "id": "bb6c2042",
   "metadata": {},
   "outputs": [],
   "source": [
    "sp.Limpieza_columnas_general(df,\"unidad_de_medida\").series_a_string()"
   ]
  },
  {
   "cell_type": "markdown",
   "id": "e075dcbb",
   "metadata": {},
   "source": [
    "**Columna producto_desc**"
   ]
  },
  {
   "cell_type": "markdown",
   "id": "8bf7b297",
   "metadata": {},
   "source": [
    "Se realizará una limpieza de todos aquellos patrones y elementos innecesarios para el estudio de los productos y que entorpecen el análisis:"
   ]
  },
  {
   "cell_type": "code",
   "execution_count": 27,
   "id": "c7f334a8",
   "metadata": {},
   "outputs": [],
   "source": [
    "sp.Limpieza_columnas_general(df,\"producto_desc\").reemplazo_patrones_regex(\"producto_desc\",r\"\\d+g\",'')\n",
    "sp.Limpieza_columnas_general(df,\"producto_desc\").reemplazo_patrones_regex(\"producto_desc\",r\"\\d+ml\",'')\n",
    "sp.Limpieza_columnas_general(df,\"producto_desc\").reemplazo_patrones_regex(\"producto_desc\",r\"\\d+l\",'')\n",
    "sp.Limpieza_columnas_general(df,\"producto_desc\").reemplazo_patrones_regex(\"producto_desc\",r\"\\d+%\",'')\n",
    "sp.Limpieza_columnas_general(df,\"producto_desc\").reemplazo_patrones_regex(\"producto_desc\",r\"\\d+u\",'')\n",
    "sp.Limpieza_columnas_general(df,\"producto_desc\").reemplazo_patrones_regex(\"producto_desc\",r\"\\d+uds\",'')\n",
    "sp.Limpieza_columnas_general(df,\"producto_desc\").reemplazo_patrones_regex(\"producto_desc\",r\"\\d+G\",'')\n",
    "sp.Limpieza_columnas_general(df,\"producto_desc\").reemplazo_patrones_regex(\"producto_desc\",r\"\\d+unidades\",'')\n",
    "sp.Limpieza_columnas_general(df,\"producto_desc\").reemplazo_patrones_regex(\"producto_desc\",r\"\\d+\",'')\n",
    "sp.Limpieza_columnas_general(df,\"producto_desc\").reemplazo_patrones_regex(\"producto_desc\",r\"\\s+g\\s\",' ')"
   ]
  },
  {
   "cell_type": "code",
   "execution_count": 28,
   "id": "4767598d",
   "metadata": {},
   "outputs": [],
   "source": [
    "sp.Limpieza_columnas_general(df,\"producto_desc\").reemplazo_string(\"kg\",\"\")\n",
    "sp.Limpieza_columnas_general(df,\"producto_desc\").reemplazo_string(\"\\\\\",\"\")\n",
    "sp.Limpieza_columnas_general(df,\"producto_desc\").reemplazo_string(\"pack\",\"\")\n",
    "sp.Limpieza_columnas_general(df,\"producto_desc\").reemplazo_string(\"*\",\"\")\n",
    "sp.Limpieza_columnas_general(df,\"producto_desc\").reemplazo_string(\"uds\",\"\")\n",
    "sp.Limpieza_columnas_general(df,\"producto_desc\").reemplazo_string(\"s/\",\"sin\")\n",
    "sp.Limpieza_columnas_general(df,\"producto_desc\").reemplazo_string('\\n',\"\")\n",
    "sp.Limpieza_columnas_general(df,\"producto_desc\").reemplazo_string('\"',\" \")\n",
    "sp.Limpieza_columnas_general(df,\"producto_desc\").reemplazo_string(\"'\",\"\")\n",
    "sp.Limpieza_columnas_general(df,\"producto_desc\").reemplazo_string('nº',\"\")\n",
    "sp.Limpieza_columnas_general(df,\"producto_desc\").reemplazo_string(')',\"\")\n",
    "sp.Limpieza_columnas_general(df,\"producto_desc\").reemplazo_string('(',\"\")\n",
    "sp.Limpieza_columnas_general(df,\"producto_desc\").reemplazo_string(':',\"\")\n",
    "sp.Limpieza_columnas_general(df,\"producto_desc\").reemplazo_string(';',\"\")\n",
    "sp.Limpieza_columnas_general(df,\"producto_desc\").reemplazo_string('.',\"\")\n",
    "sp.Limpieza_columnas_general(df,\"producto_desc\").reemplazo_string(',',\"\")\n",
    "sp.Limpieza_columnas_general(df,\"producto_desc\").reemplazo_string('+',\"\")\n",
    "sp.Limpieza_columnas_general(df,\"producto_desc\").reemplazo_string('%',\"\")\n",
    "sp.Limpieza_columnas_general(df,\"producto_desc\").reemplazo_string('#',\"\")\n",
    "sp.Limpieza_columnas_general(df,\"producto_desc\").reemplazo_string('/',\"\")\n",
    "sp.Limpieza_columnas_general(df,\"producto_desc\").reemplazo_string(\"!\",\"\")\n",
    "sp.Limpieza_columnas_general(df,\"producto_desc\").reemplazo_string(\"&\",\"\")\n",
    "sp.Limpieza_columnas_general(df,\"producto_desc\").reemplazo_string('-',\"\")\n",
    "sp.Limpieza_columnas_general(df,\"producto_desc\").reemplazo_string('unidades',\"\")"
   ]
  },
  {
   "cell_type": "markdown",
   "id": "1ea87813",
   "metadata": {},
   "source": [
    "Generación y limpieza de la columna producto, con la eliminación de las marcas comerciales (csv listado de marcas) para favorecer el vínculo con los ID_INGREDIENTE que se añadirán a continuación."
   ]
  },
  {
   "cell_type": "code",
   "execution_count": 29,
   "id": "36d177bd",
   "metadata": {},
   "outputs": [],
   "source": [
    "df[\"producto_desc\"]=df[\"producto_desc\"].apply(lambda x: x.lower() )"
   ]
  },
  {
   "cell_type": "code",
   "execution_count": 30,
   "id": "26104d3b",
   "metadata": {},
   "outputs": [],
   "source": [
    "sp.Limpieza_columnas_general(df,\"producto_desc\").series_a_string()\n",
    "df[\"producto\"]=df[\"producto_desc\"]\n",
    "sp.Limpieza_columnas_general(df,\"producto\").series_a_string()"
   ]
  },
  {
   "cell_type": "code",
   "execution_count": 31,
   "id": "049dc4e6",
   "metadata": {},
   "outputs": [],
   "source": [
    "df_marca=pd.read_csv(\"../Data/0_Others_data/3_LISTADO_MARCAS_AHORRAMAS.csv\", encoding='latin-1')"
   ]
  },
  {
   "cell_type": "code",
   "execution_count": 32,
   "id": "ed5af1af",
   "metadata": {},
   "outputs": [],
   "source": [
    "sp.Limpieza_columnas_general(df_marca,\"MARCA\").series_a_string()\n",
    "sp.Limpieza_dataframe_general(df_marca).limpieza_espacios_columnas_str()\n",
    "df_marca[\"MARCA\"]=df_marca[\"MARCA\"].apply(lambda x: x.lower())"
   ]
  },
  {
   "cell_type": "code",
   "execution_count": 33,
   "id": "0ad687f0",
   "metadata": {},
   "outputs": [],
   "source": [
    "marcas=list(df_marca[\"MARCA\"].unique())"
   ]
  },
  {
   "cell_type": "code",
   "execution_count": 34,
   "id": "0376ea1c",
   "metadata": {},
   "outputs": [],
   "source": [
    "for marca in marcas:\n",
    "    sp.Limpieza_columnas_general(df,\"producto\").reemplazo_string(f\"{marca}\",\"\")"
   ]
  },
  {
   "cell_type": "markdown",
   "id": "6dad1ab7",
   "metadata": {},
   "source": [
    "Procesado y unión de id_ingrediente:"
   ]
  },
  {
   "cell_type": "code",
   "execution_count": 35,
   "id": "bb8a5185",
   "metadata": {},
   "outputs": [],
   "source": [
    "df_ingredientes=pd.read_csv(\"../Data/0_Others_data/2_INGREDIENTES_ID.csv\", encoding='latin-1')"
   ]
  },
  {
   "cell_type": "code",
   "execution_count": 36,
   "id": "1182aa71",
   "metadata": {},
   "outputs": [],
   "source": [
    "sp.Limpieza_columnas_general(df_ingredientes,\"id_ingrediente\").reemplazo_string('\\xa0',\"\")\n",
    "sp.Limpieza_dataframe_general(df_ingredientes).limpieza_espacios_columnas_str()\n",
    "sp.Limpieza_dataframe_general(df).limpieza_espacios_columnas_str()"
   ]
  },
  {
   "cell_type": "code",
   "execution_count": 37,
   "id": "a1d72907",
   "metadata": {},
   "outputs": [],
   "source": [
    "ingredientes=list(df_ingredientes[\"id_ingrediente\"].unique())\n",
    "productos=list(df[\"producto\"].unique())"
   ]
  },
  {
   "cell_type": "code",
   "execution_count": 38,
   "id": "114ee58a",
   "metadata": {},
   "outputs": [],
   "source": [
    "equivalencias=[]\n",
    "\n",
    "for id_ing in ingredientes:\n",
    "    for prod in productos:\n",
    "        if id_ing in prod:\n",
    "            equivalencias.append([id_ing,prod])\n",
    "        else:\n",
    "            pass    "
   ]
  },
  {
   "cell_type": "code",
   "execution_count": 39,
   "id": "baed7367",
   "metadata": {},
   "outputs": [],
   "source": [
    "df_Ids = pd.DataFrame(equivalencias, columns = ['id_ingrediente', 'producto'])"
   ]
  },
  {
   "cell_type": "code",
   "execution_count": 40,
   "id": "f54a5ec3",
   "metadata": {},
   "outputs": [],
   "source": [
    "df = pd.merge(left=df, right=df_Ids, how='left',\n",
    "                        left_on='producto', right_on='producto')"
   ]
  },
  {
   "cell_type": "code",
   "execution_count": 41,
   "id": "18aed87f",
   "metadata": {},
   "outputs": [],
   "source": [
    "sp.Limpieza_columnas_general(df,\"id_ingrediente\").reemplazo_valores_nulos(\"no hay coincidencias\")"
   ]
  },
  {
   "cell_type": "code",
   "execution_count": 42,
   "id": "5148abe0",
   "metadata": {},
   "outputs": [],
   "source": [
    "df['R_coincidencia'] = df.apply(lambda x: fuzz.ratio(x.producto, x.id_ingrediente), axis=1)"
   ]
  },
  {
   "cell_type": "code",
   "execution_count": 43,
   "id": "eb97dc85",
   "metadata": {},
   "outputs": [],
   "source": [
    "df[\"Ratio_coincidencia\"] = np.where((df[\"id_ingrediente\"]==\"no hay coincidencias\"), 0, df[\"R_coincidencia\"])"
   ]
  },
  {
   "cell_type": "code",
   "execution_count": 44,
   "id": "d36661a5",
   "metadata": {},
   "outputs": [],
   "source": [
    "sp.Limpieza_columnas_general(df,\"R_coincidencia\").borrado_columna()"
   ]
  },
  {
   "cell_type": "markdown",
   "id": "5540c0b9",
   "metadata": {},
   "source": [
    "**Columna peso unit**"
   ]
  },
  {
   "cell_type": "code",
   "execution_count": 45,
   "id": "cf521b6d",
   "metadata": {},
   "outputs": [],
   "source": [
    "sp.Limpieza_columnas_general(df,\"peso_unit\").reemplazo_string(\"\\n\",\"\")\n",
    "sp.Limpieza_columnas_general(df,\"peso_unit\").reemplazo_string(\"gr\",\"\")\n",
    "sp.Limpieza_columnas_general(df,\"peso_unit\").reemplazo_string(\"gr\",\"\")\n",
    "sp.Limpieza_columnas_general(df,\"peso_unit\").reemplazo_string(\"Peso aprox unidad\",\"\")"
   ]
  },
  {
   "cell_type": "code",
   "execution_count": 46,
   "id": "cf544779",
   "metadata": {},
   "outputs": [],
   "source": [
    "df=df.join(df[\"peso_unit\"].str.split(\" \", expand=True)).rename(columns={0:'peso_unitario', 1:'unidad_metric',2:\"resto\"})"
   ]
  },
  {
   "cell_type": "code",
   "execution_count": 47,
   "id": "75391184",
   "metadata": {},
   "outputs": [],
   "source": [
    "sp.Limpieza_columnas_general(df,\"resto\").borrado_columna()\n",
    "sp.Limpieza_dataframe_general(df).limpieza_espacios_columnas_str()"
   ]
  },
  {
   "cell_type": "code",
   "execution_count": 48,
   "id": "e1c0c0c0",
   "metadata": {},
   "outputs": [],
   "source": [
    "df[\"peso_unitario\"] = np.where((df[\"peso_unitario\"]==\"\"), \"0\", df[\"peso_unitario\"])"
   ]
  },
  {
   "cell_type": "code",
   "execution_count": 49,
   "id": "4119532d",
   "metadata": {},
   "outputs": [],
   "source": [
    "sp.Limpieza_columnas_general(df,\"peso_unitario\").conversion_formato_columna(\"float\")"
   ]
  },
  {
   "cell_type": "code",
   "execution_count": 50,
   "id": "18b5df39",
   "metadata": {},
   "outputs": [],
   "source": [
    "df[\"gramos_unit\"] = np.where((df[\"unidad_metric\"]==\"Kg\"), ((df[\"peso_unitario\"])*1000), df[\"peso_unitario\"])"
   ]
  },
  {
   "cell_type": "code",
   "execution_count": 51,
   "id": "f8265a9f",
   "metadata": {},
   "outputs": [],
   "source": [
    "sp.Limpieza_columnas_general(df,\"peso_unitario\").borrado_columna()\n",
    "sp.Limpieza_columnas_general(df,\"unidad_metric\").borrado_columna()\n",
    "sp.Limpieza_columnas_general(df,\"peso_unit\").borrado_columna()\n",
    "sp.Limpieza_columnas_general(df,\"precio_sin_desc\").borrado_columna()\n",
    "sp.Limpieza_columnas_general(df,\"producto\").borrado_columna()"
   ]
  },
  {
   "cell_type": "markdown",
   "id": "9bfe516e",
   "metadata": {},
   "source": [
    "### Creación de fichero .csv"
   ]
  },
  {
   "cell_type": "markdown",
   "id": "4a4053c8",
   "metadata": {},
   "source": [
    "**Formato de columnas**"
   ]
  },
  {
   "cell_type": "code",
   "execution_count": 52,
   "id": "b65c5b37",
   "metadata": {},
   "outputs": [],
   "source": [
    "df.drop([1497], axis=0, inplace=True)"
   ]
  },
  {
   "cell_type": "code",
   "execution_count": 53,
   "id": "13962fcf",
   "metadata": {},
   "outputs": [],
   "source": [
    "sp.Limpieza_columnas_general(df,\"precio_ud\").conversion_formato_columna(\"float\")\n",
    "sp.Limpieza_columnas_general(df,\"precio_por_medida\").conversion_formato_columna(\"float\")"
   ]
  },
  {
   "cell_type": "code",
   "execution_count": 58,
   "id": "1ffd86f3",
   "metadata": {},
   "outputs": [],
   "source": [
    "sp.Limpieza_columnas_general(df,\"unidad_de_medida\").series_a_string()\n",
    "sp.Limpieza_columnas_general(df,\"descuento\").series_a_string()\n",
    "sp.Limpieza_columnas_general(df,\"categoria_1\").series_a_string()\n",
    "sp.Limpieza_columnas_general(df,\"categoria_2\").series_a_string()\n",
    "sp.Limpieza_columnas_general(df,\"categoria_3\").series_a_string()\n",
    "sp.Limpieza_columnas_general(df,\"categoria_4\").series_a_string()\n",
    "sp.Limpieza_columnas_general(df,\"id_ingrediente\").series_a_string()\n",
    "sp.Limpieza_columnas_general(df,\"unidad_de_medida\").series_a_string()"
   ]
  },
  {
   "cell_type": "code",
   "execution_count": 59,
   "id": "6958b5cb",
   "metadata": {},
   "outputs": [
    {
     "name": "stdout",
     "output_type": "stream",
     "text": [
      "<class 'pandas.core.frame.DataFrame'>\n",
      "Int64Index: 5207 entries, 0 to 5207\n",
      "Data columns (total 12 columns):\n",
      " #   Column              Non-Null Count  Dtype  \n",
      "---  ------              --------------  -----  \n",
      " 0   producto_desc       5207 non-null   string \n",
      " 1   precio_ud           5207 non-null   float64\n",
      " 2   descuento           5207 non-null   string \n",
      " 3   categoria_1         5207 non-null   string \n",
      " 4   categoria_2         5207 non-null   string \n",
      " 5   categoria_3         5207 non-null   string \n",
      " 6   categoria_4         5207 non-null   string \n",
      " 7   precio_por_medida   5207 non-null   float64\n",
      " 8   unidad_de_medida    5207 non-null   string \n",
      " 9   id_ingrediente      5207 non-null   string \n",
      " 10  Ratio_coincidencia  5207 non-null   int64  \n",
      " 11  gramos_unit         5207 non-null   float64\n",
      "dtypes: float64(3), int64(1), string(8)\n",
      "memory usage: 528.8 KB\n"
     ]
    }
   ],
   "source": [
    "df.info()"
   ]
  },
  {
   "cell_type": "markdown",
   "id": "64fc8b72",
   "metadata": {},
   "source": [
    "**Fichero csv**"
   ]
  },
  {
   "cell_type": "code",
   "execution_count": 60,
   "id": "285285ee",
   "metadata": {},
   "outputs": [],
   "source": [
    "df.to_csv('../Data/3_Clean_data/3_SUPERMARKET_CLEAN.csv', header=True, index=False)"
   ]
  }
 ],
 "metadata": {
  "kernelspec": {
   "display_name": "Python 3 (ipykernel)",
   "language": "python",
   "name": "python3"
  },
  "language_info": {
   "codemirror_mode": {
    "name": "ipython",
    "version": 3
   },
   "file_extension": ".py",
   "mimetype": "text/x-python",
   "name": "python",
   "nbconvert_exporter": "python",
   "pygments_lexer": "ipython3",
   "version": "3.9.12"
  }
 },
 "nbformat": 4,
 "nbformat_minor": 5
}
