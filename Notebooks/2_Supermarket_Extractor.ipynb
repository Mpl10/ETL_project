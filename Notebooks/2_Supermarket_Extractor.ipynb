{
 "cells": [
  {
   "cell_type": "markdown",
   "id": "730057c7",
   "metadata": {},
   "source": [
    "# Índice\n",
    "\n",
    "**Extractores de URLs**\n",
    "\n",
    "    1️⃣ Configuración y creación de lista de URLs  \n",
    "    2️⃣ Extractor lácteos\n",
    "    3️⃣ Extractor frescos   \n",
    "    4️⃣ Extractor alimentación  \n",
    "    5️⃣ Extractor bebidas   \n",
    "    6️⃣ Extractor congelados \n",
    "    \n",
    "\n",
    "**Extractor de contenido**\n",
    "\n",
    "**Creación de fichero .csv**\n",
    "\n",
    "**Anexo: Listado de marcas**\n"
   ]
  },
  {
   "cell_type": "markdown",
   "id": "9a524d5c",
   "metadata": {},
   "source": [
    "## Extractores de URLs"
   ]
  },
  {
   "cell_type": "markdown",
   "id": "8feef526",
   "metadata": {},
   "source": [
    "### 1. Configuración y creación de lista de URLs"
   ]
  },
  {
   "cell_type": "markdown",
   "id": "88bc0fd0",
   "metadata": {},
   "source": [
    "El planteamiento de la extracción de las Url de productos después de estudiar la Web del supermercado es seleccionar sólo aquellas categorías que pueden aportar información relevante al objetivo del análisis (descartando categorías como productos de limpieza, higiene..). Además se extraerán las URL de los productos de las categorías por separado, dado que hay diferencias en algunos elementos de las mismas (como el número inicial de productos a mostrar por página)."
   ]
  },
  {
   "cell_type": "markdown",
   "id": "01903ad6",
   "metadata": {},
   "source": [
    "El funcionamiento de los extractores de las categorías consta de dos pasos; tras abrir la web se ejecuta un primer bucle en el que se localiza cada uno de los botones que despliegan el listado de productos hasta tenerlo completo, una vez finalizada esa acción se ejecuta un segundo bucle que localiza los link de cada uno de los productos. En este ejemplo el número de elementos que se incluyen en el segundo bucle se basa en la información de la página en el día concreto de esta extracción, para estandarizarlo se puede fijar una cifra superior para tener un margen (ya que el número de productos por categoría varía de forma diaria y he visto que las etiquetas que muestran cuántos productos hay en cada una de ellas en de la web no son 100% exactas)"
   ]
  },
  {
   "cell_type": "markdown",
   "id": "d7e7e957",
   "metadata": {},
   "source": [
    "El resultado de la acción anterior es conseguir las URL de todos los productos de cada categoría para poder acceder a ellos y extraer la información necesaria en el siguiente punto sin tener que hacer cilck en todos. "
   ]
  },
  {
   "cell_type": "code",
   "execution_count": 2,
   "id": "5b0e8125",
   "metadata": {},
   "outputs": [],
   "source": [
    "import pandas as pd\n",
    "import numpy as np\n",
    "\n",
    "import random\n",
    "from random import randint\n",
    "import string\n",
    "import requests\n",
    "from tqdm import tqdm\n",
    "\n",
    "from time import sleep\n",
    "from selenium import webdriver\n",
    "from bs4 import BeautifulSoup\n",
    "from webdriver_manager.chrome import ChromeDriverManager\n",
    "from selenium.webdriver.common.keys import Keys\n",
    "from selenium.webdriver.chrome.options import Options\n",
    "\n",
    "import warnings\n",
    "warnings.filterwarnings('ignore')"
   ]
  },
  {
   "cell_type": "code",
   "execution_count": 3,
   "id": "937b4fc1",
   "metadata": {},
   "outputs": [],
   "source": [
    "opciones= Options()\n",
    "opciones.add_experimental_option('excludeSwitches', ['enable-automation'])\n",
    "#para ocultarme como robot\n",
    "opciones.add_experimental_option('useAutomationExtension', False)\n",
    "opciones.add_argument('--start-maximized') #empezar maximizado\n",
    "opciones.add_argument('user.data-dir=selenium') #guarda las cookies\n",
    "opciones.add_argument('--incognito')#incognito window"
   ]
  },
  {
   "cell_type": "code",
   "execution_count": 4,
   "id": "d567d6ac",
   "metadata": {},
   "outputs": [],
   "source": [
    "url_productos=[]"
   ]
  },
  {
   "cell_type": "markdown",
   "id": "f02f358f",
   "metadata": {},
   "source": [
    "### 2. Extractor lácteos"
   ]
  },
  {
   "cell_type": "code",
   "execution_count": 7,
   "id": "102e6e95",
   "metadata": {},
   "outputs": [
    {
     "name": "stderr",
     "output_type": "stream",
     "text": [
      "  9%|███████                                                                          | 36/416 [03:06<32:47,  5.18s/it]\n"
     ]
    },
    {
     "name": "stdout",
     "output_type": "stream",
     "text": [
      "No more Show more button: 447\n"
     ]
    },
    {
     "name": "stderr",
     "output_type": "stream",
     "text": [
      "  1%|█                                                                                 | 6/438 [01:00<59:36,  8.28s/it]"
     ]
    },
    {
     "name": "stdout",
     "output_type": "stream",
     "text": [
      "no such product: 3\n"
     ]
    },
    {
     "name": "stderr",
     "output_type": "stream",
     "text": [
      "  3%|██▏                                                                              | 12/438 [02:00<58:44,  8.27s/it]"
     ]
    },
    {
     "name": "stdout",
     "output_type": "stream",
     "text": [
      "no such product: 9\n"
     ]
    },
    {
     "name": "stderr",
     "output_type": "stream",
     "text": [
      "100%|████████████████████████████████████████████████████████████████████████████████| 438/438 [03:22<00:00,  2.16it/s]"
     ]
    },
    {
     "name": "stdout",
     "output_type": "stream",
     "text": [
      "no such product: 438\n"
     ]
    },
    {
     "name": "stderr",
     "output_type": "stream",
     "text": [
      "\n"
     ]
    }
   ],
   "source": [
    "driver = webdriver.Chrome(\"chromedriver.exe\")\n",
    "\n",
    "categoria= 'lacteos'\n",
    "num_res= list(range(15, 5000, 12))  \n",
    "\n",
    "\n",
    "driver.get(f\"https://www.ahorramas.com/{categoria}/\")\n",
    "\n",
    "try:\n",
    "    driver.find_element(\"xpath\", \"//*[@id='onetrust-accept-btn-handler']\").click()\n",
    "    sleep(7)\n",
    "except:\n",
    "    pass\n",
    "\n",
    "for num in tqdm(num_res):\n",
    "    try:\n",
    "        driver.find_element(\"xpath\", f'//*[@id=\"product-search-results\"]/div[2]/div[4]/div[2]/div[{num}]/div/div/button').click()\n",
    "        driver.implicitly_wait(60)\n",
    "        sleep(randint(2,5))\n",
    "    except:\n",
    "        print(f\"No more Show more button: {num}\")\n",
    "        break\n",
    "        \n",
    "for i in tqdm(range(1,439)):\n",
    "    try:\n",
    "        url_productos.append(driver.find_element(\"xpath\", f\"//*[@id='product-search-results']/div[2]/div[4]/div[2]/div[{i}]/div/div/div[1]/a\").get_attribute('href'))\n",
    "        \n",
    "    except:\n",
    "        print(f\"no such product: {i}\")\n",
    "        pass"
   ]
  },
  {
   "cell_type": "markdown",
   "id": "4f1cebae",
   "metadata": {},
   "source": [
    "### 3. Extractor frescos"
   ]
  },
  {
   "cell_type": "code",
   "execution_count": 8,
   "id": "bf4f56ed",
   "metadata": {},
   "outputs": [
    {
     "name": "stderr",
     "output_type": "stream",
     "text": [
      " 24%|███████████████████                                                              | 98/416 [06:51<22:16,  4.20s/it]\n"
     ]
    },
    {
     "name": "stdout",
     "output_type": "stream",
     "text": [
      "No more Show more button: 1189\n"
     ]
    },
    {
     "name": "stderr",
     "output_type": "stream",
     "text": [
      "100%|██████████████████████████████████████████████████████████████████████████████| 1044/1044 [01:31<00:00, 11.38it/s]\n"
     ]
    }
   ],
   "source": [
    "driver = webdriver.Chrome(\"chromedriver.exe\")\n",
    "\n",
    "categoria= 'frescos'\n",
    "num_res= list(range(13, 5000, 12)) \n",
    "\n",
    "\n",
    "driver.get(f\"https://www.ahorramas.com/{categoria}/\")\n",
    "\n",
    "try:\n",
    "    driver.find_element(\"xpath\", '//*[@id=\"onetrust-accept-btn-handler\"]').click()\n",
    "    sleep(7)\n",
    "except:\n",
    "    pass\n",
    "\n",
    "for num in tqdm(num_res):\n",
    "    try:\n",
    "        driver.find_element(\"xpath\", f'//*[@id=\"product-search-results\"]/div[2]/div[4]/div[2]/div[{num}]/div/div/button').click()\n",
    "        driver.implicitly_wait(60)\n",
    "        sleep(randint(2,5))\n",
    "    except:\n",
    "        print(f\"No more Show more button: {num}\")\n",
    "        break\n",
    "        \n",
    "for i in tqdm(range(1,1045)):\n",
    "    try:\n",
    "        url_productos.append(driver.find_element(\"xpath\", f\"//*[@id='product-search-results']/div[2]/div[4]/div[2]/div[{i}]/div/div/div[1]/a\").get_attribute('href'))\n",
    "        \n",
    "    except:\n",
    "        print(f\"no such product: {i}\")\n",
    "        pass"
   ]
  },
  {
   "cell_type": "markdown",
   "id": "0060b54f",
   "metadata": {},
   "source": [
    "### 4. Extractor alimentación"
   ]
  },
  {
   "cell_type": "code",
   "execution_count": 5,
   "id": "5ce08640",
   "metadata": {},
   "outputs": [
    {
     "name": "stderr",
     "output_type": "stream",
     "text": [
      " 44%|███████████████████████████████████▌                                            | 185/416 [12:22<15:27,  4.02s/it]\n"
     ]
    },
    {
     "name": "stdout",
     "output_type": "stream",
     "text": [
      "No more Show more button: 2233\n"
     ]
    },
    {
     "name": "stderr",
     "output_type": "stream",
     "text": [
      "100%|██████████████████████████████████████████████████████████████████████████████| 1944/1944 [05:35<00:00,  5.79it/s]\n"
     ]
    }
   ],
   "source": [
    "driver = webdriver.Chrome(\"chromedriver.exe\")\n",
    "\n",
    "categoria= 'alimentacion'\n",
    "num_res= list(range(13, 5000, 12)) \n",
    "\n",
    "\n",
    "driver.get(f\"https://www.ahorramas.com/{categoria}/\")\n",
    "\n",
    "try:\n",
    "    driver.find_element(\"xpath\", '//*[@id=\"onetrust-accept-btn-handler\"]').click()\n",
    "    sleep(7)\n",
    "except:\n",
    "    pass\n",
    "\n",
    "for num in tqdm(num_res):\n",
    "    try:\n",
    "        driver.find_element(\"xpath\", f'//*[@id=\"product-search-results\"]/div[2]/div[4]/div[3]/div[{num}]/div/div/button').click()\n",
    "        driver.implicitly_wait(60)\n",
    "        sleep(randint(2,5))\n",
    "    except:\n",
    "        print(f\"No more Show more button: {num}\")\n",
    "        break\n",
    "  \n",
    "\n",
    "for i in tqdm(range(1,1945)):\n",
    "    try:\n",
    "        url_productos.append(driver.find_element(\"xpath\", f\"//*[@id='product-search-results']/div[2]/div[4]/div[3]/div[{i}]/div/div/div[1]/a\").get_attribute('href'))\n",
    "        \n",
    "    except:\n",
    "        print(f\"no such product: {i}\")\n",
    "        pass"
   ]
  },
  {
   "cell_type": "markdown",
   "id": "7a728d40",
   "metadata": {},
   "source": [
    "### 5. Extractor bebidas"
   ]
  },
  {
   "cell_type": "code",
   "execution_count": 9,
   "id": "850c734c",
   "metadata": {},
   "outputs": [
    {
     "name": "stderr",
     "output_type": "stream",
     "text": [
      " 13%|██████████▋                                                                      | 55/416 [04:10<27:22,  4.55s/it]\n"
     ]
    },
    {
     "name": "stdout",
     "output_type": "stream",
     "text": [
      "No more Show more button: 675\n"
     ]
    },
    {
     "name": "stderr",
     "output_type": "stream",
     "text": [
      "  1%|▋                                                                               | 5/619 [01:00<1:57:34, 11.49s/it]"
     ]
    },
    {
     "name": "stdout",
     "output_type": "stream",
     "text": [
      "no such product: 3\n"
     ]
    },
    {
     "name": "stderr",
     "output_type": "stream",
     "text": [
      "  2%|█▍                                                                             | 11/619 [02:00<1:36:44,  9.55s/it]"
     ]
    },
    {
     "name": "stdout",
     "output_type": "stream",
     "text": [
      "no such product: 8\n"
     ]
    },
    {
     "name": "stderr",
     "output_type": "stream",
     "text": [
      "100%|████████████████████████████████████████████████████████████████████████████████| 619/619 [02:35<00:00,  3.98it/s]\n"
     ]
    }
   ],
   "source": [
    "driver = webdriver.Chrome(\"chromedriver.exe\")\n",
    "\n",
    "categoria= 'bebidas'\n",
    "num_res= list(range(15, 5000, 12)) \n",
    "\n",
    "\n",
    "driver.get(f\"https://www.ahorramas.com/{categoria}/\")\n",
    "\n",
    "try:\n",
    "    driver.find_element(\"xpath\", '//*[@id=\"onetrust-accept-btn-handler\"]').click()\n",
    "    sleep(7)\n",
    "except:\n",
    "    pass\n",
    "\n",
    "for num in tqdm(num_res):\n",
    "    try:\n",
    "        driver.find_element(\"xpath\", f'//*[@id=\"product-search-results\"]/div[2]/div[4]/div[3]/div[{num}]/div/div/button').click()\n",
    "        driver.implicitly_wait(60)\n",
    "        sleep(randint(2,5))\n",
    "    except:\n",
    "        print(f\"No more Show more button: {num}\")\n",
    "        break\n",
    "        \n",
    "for i in tqdm(range(1,620)):\n",
    "    try:\n",
    "        url_productos.append(driver.find_element(\"xpath\", f\"//*[@id='product-search-results']/div[2]/div[4]/div[3]/div[{i}]/div/div/div[1]/a\").get_attribute('href'))\n",
    "        \n",
    "    except:\n",
    "        print(f\"no such product: {i}\")\n",
    "        pass"
   ]
  },
  {
   "cell_type": "markdown",
   "id": "6ac2f221",
   "metadata": {},
   "source": [
    "### 6. Extractor congelados"
   ]
  },
  {
   "cell_type": "code",
   "execution_count": 10,
   "id": "75a9b610",
   "metadata": {},
   "outputs": [
    {
     "name": "stderr",
     "output_type": "stream",
     "text": [
      "  7%|█████▊                                                                           | 30/416 [02:56<37:55,  5.89s/it]\n"
     ]
    },
    {
     "name": "stdout",
     "output_type": "stream",
     "text": [
      "No more Show more button: 374\n"
     ]
    },
    {
     "name": "stderr",
     "output_type": "stream",
     "text": [
      "  1%|▉                                                                               | 4/324 [01:00<1:00:45, 11.39s/it]"
     ]
    },
    {
     "name": "stdout",
     "output_type": "stream",
     "text": [
      "no such product: 1\n"
     ]
    },
    {
     "name": "stderr",
     "output_type": "stream",
     "text": [
      "100%|████████████████████████████████████████████████████████████████████████████████| 324/324 [01:15<00:00,  4.28it/s]\n"
     ]
    }
   ],
   "source": [
    "driver = webdriver.Chrome(\"chromedriver.exe\")\n",
    "\n",
    "categoria= 'congelados'\n",
    "num_res= list(range(14, 5000, 12)) \n",
    "\n",
    "\n",
    "driver.get(f\"https://www.ahorramas.com/{categoria}/\")\n",
    "\n",
    "try:\n",
    "    driver.find_element(\"xpath\", '//*[@id=\"onetrust-accept-btn-handler\"]').click()\n",
    "    sleep(7)\n",
    "except:\n",
    "    pass\n",
    "\n",
    "for num in tqdm(num_res):\n",
    "    try:\n",
    "        driver.find_element(\"xpath\", f'//*[@id=\"product-search-results\"]/div[2]/div[4]/div[2]/div[{num}]/div/div/button').click()\n",
    "        driver.implicitly_wait(60)\n",
    "        sleep(randint(2,5))\n",
    "    except:\n",
    "        print(f\"No more Show more button: {num}\")\n",
    "        break\n",
    "        \n",
    "for i in tqdm(range(1,325)):\n",
    "    try:\n",
    "        url_productos.append(driver.find_element(\"xpath\", f\"//*[@id='product-search-results']/div[2]/div[4]/div[2]/div[{i}]/div/div/div[1]/a\").get_attribute('href'))\n",
    "        \n",
    "    except:\n",
    "        print(f\"no such product: {i}\")\n",
    "        pass"
   ]
  },
  {
   "cell_type": "code",
   "execution_count": 59,
   "id": "f0550baa",
   "metadata": {},
   "outputs": [],
   "source": [
    "df_url= pd.DataFrame(url_productos)"
   ]
  },
  {
   "cell_type": "code",
   "execution_count": 74,
   "id": "b46b3611",
   "metadata": {},
   "outputs": [],
   "source": [
    "df_url.columns = ['URL']"
   ]
  },
  {
   "cell_type": "code",
   "execution_count": 79,
   "id": "b1bab340",
   "metadata": {},
   "outputs": [],
   "source": [
    "df_url.to_csv('0_Proyecto_Recetas/Data/0_Others_data/1_LISTADO_URL_PRODUCTOS_AHORRAMAS.csv', header=True, index=False)"
   ]
  },
  {
   "cell_type": "markdown",
   "id": "2b42c265",
   "metadata": {},
   "source": [
    "## Extractor de contenido"
   ]
  },
  {
   "cell_type": "markdown",
   "id": "4671ef7b",
   "metadata": {},
   "source": [
    "En base a la lista de Url generada en el punto anterior vamos a extraer en el siguiente código la información de cada uno de los productos. El procedimiento tarda en torno a 9 horas por norma general."
   ]
  },
  {
   "cell_type": "code",
   "execution_count": 80,
   "id": "8f7ac373",
   "metadata": {},
   "outputs": [],
   "source": [
    "pd_lista=pd.read_csv('0_Proyecto_Recetas/Data/0_Others_data/1_LISTADO_URL_PRODUCTOS_AHORRAMAS.csv')"
   ]
  },
  {
   "cell_type": "code",
   "execution_count": 81,
   "id": "567eee37",
   "metadata": {},
   "outputs": [],
   "source": [
    "url_productos=[]\n",
    "\n",
    "for url in pd_lista['URL']:\n",
    "    url_productos.append(url)"
   ]
  },
  {
   "cell_type": "code",
   "execution_count": 20,
   "id": "1f70a001",
   "metadata": {},
   "outputs": [
    {
     "name": "stderr",
     "output_type": "stream",
     "text": [
      "100%|████████████████████████████████████████████████████████████████████████████| 4362/4362 [9:03:18<00:00,  7.47s/it]\n"
     ]
    }
   ],
   "source": [
    "sopa_ini=[]\n",
    "\n",
    "for url in tqdm(url_productos):\n",
    "    sopa_ini.append(requests.get(url))\n",
    "    sleep(randint(5,9))"
   ]
  },
  {
   "cell_type": "code",
   "execution_count": 21,
   "id": "6657e22c",
   "metadata": {},
   "outputs": [
    {
     "name": "stderr",
     "output_type": "stream",
     "text": [
      "100%|██████████████████████████████████████████████████████████████████████████████| 4362/4362 [14:02<00:00,  5.18it/s]\n"
     ]
    }
   ],
   "source": [
    "sopa=[]\n",
    "\n",
    "for s in tqdm(sopa_ini):\n",
    "    sopa.append(BeautifulSoup(s.content, 'html.parser'))"
   ]
  },
  {
   "cell_type": "markdown",
   "id": "f8ee498d",
   "metadata": {},
   "source": [
    "## Creación de fichero .csv"
   ]
  },
  {
   "cell_type": "markdown",
   "id": "ba07e307",
   "metadata": {},
   "source": [
    "Una vez tenemos la información de los productos, localizaremos y almacenaremos en un diccionario lo siguiente:"
   ]
  },
  {
   "cell_type": "markdown",
   "id": "05aa519c",
   "metadata": {},
   "source": [
    "    - producto_desc: descripción o nombre del producto   \n",
    "    - precio_ud: precio del producto\n",
    "    - precio_medida: precio por unidad de medida (kg, l...)   \n",
    "    - peso_unit: peso aproximado de la unidad \n",
    "    - descuento: creado manualmente como resultado de una condición (valores: sí o no)   \n",
    "    - precio_sin_desc: en caso de no tener descuento valor precio unitario, de lo contrario el precio sin descuento \n",
    "    - categorias: las diferentes categorías con las que el supermercado clasifica el producto"
   ]
  },
  {
   "cell_type": "markdown",
   "id": "8043a331",
   "metadata": {},
   "source": [
    "Generamos también como paso previo una lista de valores excluidos, que contiene los mensajes que muestra la web cuando una url no está disponible."
   ]
  },
  {
   "cell_type": "code",
   "execution_count": 44,
   "id": "daf588fe",
   "metadata": {},
   "outputs": [
    {
     "name": "stderr",
     "output_type": "stream",
     "text": [
      "100%|██████████████████████████████████████████████████████████████████████████████| 4362/4362 [05:25<00:00, 13.39it/s]\n"
     ]
    }
   ],
   "source": [
    "dicc_sup_ahorramas= {\"producto_desc\"     : [],\n",
    "                      \"precio_ud\"        : [],\n",
    "                      \"precio_medida\"    : [],\n",
    "                      \"peso_unit\"        : [],\n",
    "                      \"descuento\"        : [],\n",
    "                      \"precio_sin_desc\"  : [],\n",
    "                      \"categorias\"       : []                                \n",
    "                     }\n",
    "\n",
    "lista_excluidos=['URL Not Found','We cannot find the page you are looking for!']\n",
    "\n",
    "for producto in tqdm(sopa):\n",
    "    \n",
    "    try:\n",
    "        if ((producto.find_all((\"h1\", {\"class\": \"product-name d-sm-none\"}))[0].getText())) in lista_excluidos:\n",
    "            pass\n",
    "        \n",
    "        else:\n",
    "    \n",
    "            dicc_sup_ahorramas[\"producto_desc\"].append(producto.find_all((\"h1\", {\"class\": \"product-name d-sm-none\"}))[0].getText())\n",
    "\n",
    "            try:\n",
    "                dicc_sup_ahorramas[\"precio_ud\"].append(producto.find_all(\"span\", {\"class\": \"value\"})[0].getText())\n",
    "                \n",
    "            except:\n",
    "                dicc_sup_ahorramas[\"precio_ud\"].append(np.nan)\n",
    "                \n",
    "            try:\n",
    "                dicc_sup_ahorramas[\"peso_unit\"].append(producto.find_all(\"p\", {\"class\": \"font-small-12 mb-1\"})[0].getText())\n",
    "                \n",
    "            except:\n",
    "                dicc_sup_ahorramas[\"peso_unit\"].append(np.nan)\n",
    "                \n",
    "            try:\n",
    "                dicc_sup_ahorramas[\"categorias\"].append(producto.find_all((\"ol\", {\"class\": \"breadcrumb\"}))[0].getText())\n",
    "                \n",
    "            except:\n",
    "                \n",
    "                dicc_sup_ahorramas[\"categorias\"].append(np.nan)\n",
    "\n",
    "\n",
    "            try:\n",
    "                dicc_sup_ahorramas[\"precio_medida\"].append(producto.find_all(\"span\", {\"class\": \"unit-price-per-unit grey\"})[0].getText())\n",
    "                dicc_sup_ahorramas[\"descuento\"].append(\"No\")\n",
    "                dicc_sup_ahorramas[\"precio_sin_desc\"].append(\"precio unitario\")\n",
    "                \n",
    "                continue\n",
    "                \n",
    "            except:\n",
    "                \n",
    "                try:\n",
    "                    dicc_sup_ahorramas[\"precio_medida\"].append(producto.find_all(\"span\", {\"class\": \"unit-price-per-unit red\"})[0].getText())\n",
    "                    dicc_sup_ahorramas[\"descuento\"].append(\"Sí\")\n",
    "                    dicc_sup_ahorramas[\"precio_sin_desc\"].append(producto.find_all(\"span\", {\"class\": \"unit-price-old\"})[0].getText()+' ('+\n",
    "                                                             producto.find_all(\"span\", {\"class\": \"marker\"})[0].getText()+')')\n",
    "                   \n",
    "                    continue\n",
    "                    \n",
    "                except:\n",
    "                    \n",
    "                    dicc_sup_ahorramas[\"precio_medida\"].append(np.nan)\n",
    "                    dicc_sup_ahorramas[\"descuento\"].append(np.nan)\n",
    "                    dicc_sup_ahorramas[\"precio_sin_desc\"].append(np.nan)\n",
    "                    \n",
    "                    continue\n",
    "\n",
    "                continue\n",
    "\n",
    "    except:\n",
    "        pass"
   ]
  },
  {
   "cell_type": "code",
   "execution_count": 45,
   "id": "fd5ed881",
   "metadata": {},
   "outputs": [
    {
     "name": "stdout",
     "output_type": "stream",
     "text": [
      "4359\n",
      "4359\n",
      "4359\n",
      "4359\n",
      "4359\n",
      "4359\n",
      "4359\n"
     ]
    }
   ],
   "source": [
    "#Comprobamos la longitud de cada una de las key de nuestro diccionario\n",
    "\n",
    "print(len(dicc_sup_ahorramas[\"precio_medida\"]))\n",
    "print(len(dicc_sup_ahorramas[\"descuento\"]))\n",
    "print(len(dicc_sup_ahorramas[\"precio_sin_desc\"]))\n",
    "print(len(dicc_sup_ahorramas[\"producto_desc\"]))\n",
    "print(len(dicc_sup_ahorramas[\"precio_ud\"]))\n",
    "print(len(dicc_sup_ahorramas[\"peso_unit\"]))\n",
    "print(len(dicc_sup_ahorramas[\"categorias\"]))"
   ]
  },
  {
   "cell_type": "code",
   "execution_count": 50,
   "id": "d9160b04",
   "metadata": {},
   "outputs": [],
   "source": [
    "df_catalogo= pd.DataFrame(dicc_sup_ahorramas)"
   ]
  },
  {
   "cell_type": "code",
   "execution_count": 57,
   "id": "928a31f3",
   "metadata": {},
   "outputs": [],
   "source": [
    "df_catalogo.to_csv('0_Proyecto_Recetas/Data/2_Extracted_data/3_CATALOGO_AHORRAMAS_DATA.csv', header=True, index=False)"
   ]
  },
  {
   "cell_type": "markdown",
   "id": "85e9ea8c",
   "metadata": {},
   "source": [
    "## Anexo: Listado de marcas"
   ]
  },
  {
   "cell_type": "markdown",
   "id": "d8d79fb0",
   "metadata": {},
   "source": [
    "A lo largo de la limpieza de los datos ha surgido la necesidad de eliminar las marcas de los proveedores de los nombres de los productos, por lo que se ha incluido este anexo que obtiene las marcas por cada una de las categorías estudiadas."
   ]
  },
  {
   "cell_type": "code",
   "execution_count": 13,
   "id": "25bf4ec9",
   "metadata": {},
   "outputs": [],
   "source": [
    "lista_marcas=[]"
   ]
  },
  {
   "cell_type": "code",
   "execution_count": 15,
   "id": "a7e9080e",
   "metadata": {},
   "outputs": [
    {
     "name": "stderr",
     "output_type": "stream",
     "text": [
      "100%|████████████████████████████████████████████████████████████████████████████████| 500/500 [00:15<00:00, 31.80it/s]\n",
      "100%|████████████████████████████████████████████████████████████████████████████████| 500/500 [00:12<00:00, 39.22it/s]\n",
      "100%|████████████████████████████████████████████████████████████████████████████████| 500/500 [00:22<00:00, 22.58it/s]\n",
      "100%|████████████████████████████████████████████████████████████████████████████████| 500/500 [00:19<00:00, 25.62it/s]\n",
      "100%|████████████████████████████████████████████████████████████████████████████████| 500/500 [00:19<00:00, 25.62it/s]\n"
     ]
    }
   ],
   "source": [
    "driver = webdriver.Chrome(\"chromedriver.exe\")\n",
    "\n",
    "categorias= ['lacteos','congelados','bebidas','alimentacion','frescos']\n",
    "\n",
    "for categoria in categorias:\n",
    "    driver.get(f\"https://www.ahorramas.com/{categoria}/\")\n",
    "    \n",
    "    \n",
    "    try:\n",
    "        driver.find_element(\"xpath\", '//*[@id=\"onetrust-accept-btn-handler\"]').click()\n",
    "        sleep(randint(2,5))\n",
    "    except:\n",
    "        pass\n",
    "    \n",
    "    driver.find_element(\"xpath\", '//*[@id=\"refinement-marca\"]/div[1]/span').click()\n",
    "    sleep(randint(13,15))\n",
    "    \n",
    "    for i in tqdm(range(0,500)):\n",
    "        try:\n",
    "            lista_marcas.append(driver.find_element(\"xpath\", f'//*[@id=\"refinement-marca\"]/ul[1]/li[{i}]/button/span[1]').text)\n",
    "        except:\n",
    "            \n",
    "            try:\n",
    "                lista_marcas.append(driver.find_element(\"xpath\", f'//*[@id=\"refinement-marca\"]/ul[2]/li[{i}]/button/span[1]').text)\n",
    "                continue\n",
    "            except:\n",
    "                pass\n",
    "\n",
    "    sleep(randint(4,9))"
   ]
  },
  {
   "cell_type": "code",
   "execution_count": 19,
   "id": "f1ae6153",
   "metadata": {},
   "outputs": [],
   "source": [
    "df_marcas= pd.DataFrame(lista_marcas)"
   ]
  },
  {
   "cell_type": "code",
   "execution_count": 20,
   "id": "4a2d4499",
   "metadata": {},
   "outputs": [],
   "source": [
    "df_marcas.columns = ['MARCA']"
   ]
  },
  {
   "cell_type": "code",
   "execution_count": 23,
   "id": "7555414c",
   "metadata": {},
   "outputs": [],
   "source": [
    "df_marcas.to_csv('../Data/0_Others_data/3_LISTADO_MARCAS_AHORRAMAS.csv', header=True, index=False)"
   ]
  }
 ],
 "metadata": {
  "kernelspec": {
   "display_name": "Python 3 (ipykernel)",
   "language": "python",
   "name": "python3"
  },
  "language_info": {
   "codemirror_mode": {
    "name": "ipython",
    "version": 3
   },
   "file_extension": ".py",
   "mimetype": "text/x-python",
   "name": "python",
   "nbconvert_exporter": "python",
   "pygments_lexer": "ipython3",
   "version": "3.9.12"
  }
 },
 "nbformat": 4,
 "nbformat_minor": 5
}
